{
  "cells": [
    {
      "cell_type": "markdown",
      "id": "c0073feb-0e04-4d3c-84a9-95d6ed47d1f8",
      "metadata": {
        "id": "c0073feb-0e04-4d3c-84a9-95d6ed47d1f8"
      },
      "source": [
        "# Module 2: Data Analysis"
      ]
    },
    {
      "cell_type": "markdown",
      "id": "86ca4aac-5991-45ed-9f82-61c7b1c19c14",
      "metadata": {
        "id": "86ca4aac-5991-45ed-9f82-61c7b1c19c14"
      },
      "source": [
        "## Sprint 2: Inferential Statistical Analysis"
      ]
    },
    {
      "cell_type": "markdown",
      "id": "d418ea35-6ff3-42b6-b18e-0a66dd4dea90",
      "metadata": {
        "id": "d418ea35-6ff3-42b6-b18e-0a66dd4dea90"
      },
      "source": [
        "## Part 5: Inferential Statistical Analysis of the Podcast Reviews\n"
      ]
    },
    {
      "cell_type": "markdown",
      "id": "57401b78-6adf-493c-84d4-b1672eee9725",
      "metadata": {
        "id": "57401b78-6adf-493c-84d4-b1672eee9725"
      },
      "source": [
        "## About this Part\n",
        "\n",
        "Congrats!\n",
        "You have reached the last Part of this Sprint.\n",
        "In this Part, you will put what you learned during this and the previous Sprints into practice.\n",
        "As the final assignment of this Sprint, you will analyze the Podcast Reviews Dataset.\n",
        "You will have to apply all that you have learned about Statistical Inference & SQL to complete this task.\n",
        "Our expectation is that you'll use your own judgment on how to perform the analysis and how to select the most important avenues of statistical testing and exploration.\n",
        "You'll have to iteratively raise hypotheses and use your data analysis skills to get answers.\n",
        "\n",
        "P.S. we don't expect this project to be perfect - you will continue to improve your skills and there will be many projects for you to apply your newly gained skills in the future.\n",
        "For now, just use what you have learned and try your best!\n",
        "\n",
        "## Objectives for this Part\n",
        "\n",
        "- Practice working with SQLite datasets.\n",
        "- Practice performing EDA.\n",
        "- Practice applying statistical inference procedures.\n",
        "- Practice visualizing data with Matplotlib & Seaborn.\n",
        "- Practice creating dashboards with Google Data Studio.\n",
        "- Practice reading data, performing queries, and filtering data using SQL and Pandas.\n",
        "\n",
        "## Requirements\n",
        "\n",
        "- Download the data from [Podcast Reviews Dataset](https://www.kaggle.com/datasets/thoughtvector/podcastreviews/versions/28).\n",
        "- Load the data using SQLite and Pandas.\n",
        "- Perform exploratory data analysis. This should include creating statistical summaries and charts, testing for anomalies, checking for correlations and other relations between variables, and other EDA elements.\n",
        "- Perform statistical inference. This should include defining the target population, forming multiple statistical hypotheses and constructing confidence intervals, setting the significance levels, and conducting z or t-tests for these hypotheses.\n",
        "- Create a Google Data Studio dashboard with at least three different types of charts.\n",
        "- Provide clear explanations in your notebook. Your explanations should inform the reader what you are trying to achieve, what results did you get, and what these results mean.\n",
        "- Provide suggestions about how your analysis can be improved.\n",
        "\n",
        "## Evaluation Criteria\n",
        "\n",
        "- Adherence to the requirements. How well did you meet the requirements?\n",
        "- Depth of your analysis. Did you just skim the surface, or did you explore the dataset in depth?\n",
        "- Visualization quality. Did you use charts effectively to visualize patterns in the data? Are your visualizations properly labeled? Did you use colors effectively? Did you adhere to the principle of proportional ink?\n",
        "- Code quality. Was your code well-structured? Did you use the appropriate levels of abstraction? Did you remove commented-out and unused code? Did you adhere to the PEP8?\n",
        "- Code performance. Did you use suitable algorithms and data structures to solve the problems?\n",
        "\n",
        "## Correction\n",
        "\n",
        "During your project correction, you should present your project as if talking to a product manager and senior data analyst working in your team.\n",
        "You will have to find the right balance between explaining the business side and the technical aspects of your work.\n",
        "You can assume that both of your colleagues have a strong understanding of and are very interested in the business aspect of your project, so be sure to clearly explain what new insights you've found while analyzing the dataset and which directions look the most promising for further research.\n",
        "However, you should also spend time explaining the technical aspects of your work, especially the more complex or unconventional choices.\n",
        "\n",
        "During a correction, you may get asked questions that test your understanding of covered topics.\n",
        "\n",
        "- Explain how to perform a permutation procedure\n",
        "- What is the difference between a parameter and a statistic?\n",
        "- What is a confidence interval?\n",
        "- Why is it risky to assume a normal distribution?\n",
        "- Why do we need to have control groups, while doing A/B testing?\n"
      ]
    },
    {
      "cell_type": "markdown",
      "id": "2b9201b0-dcff-46d9-a92c-d35eda09700b",
      "metadata": {
        "id": "2b9201b0-dcff-46d9-a92c-d35eda09700b"
      },
      "source": [
        "## General Correction Guidelines\n",
        "\n",
        "For an in-depth explanation about how corrections work at Turing College, please read [this doc](https://turingcollege.atlassian.net/wiki/spaces/DLG/pages/537395951/Peer+expert+reviews+corrections).\n"
      ]
    },
    {
      "cell_type": "markdown",
      "source": [],
      "metadata": {
        "id": "53kHpj2-bc8O"
      },
      "id": "53kHpj2-bc8O"
    },
    {
      "cell_type": "code",
      "source": [
        "!pip install duckdb -q\n",
        "!pip install --upgrade duckdb -q"
      ],
      "metadata": {
        "id": "GUCNe4EYeggM",
        "colab": {
          "base_uri": "https://localhost:8080/"
        },
        "outputId": "f488aab7-80bd-482c-e002-7bbd16b83c21"
      },
      "id": "GUCNe4EYeggM",
      "execution_count": 1,
      "outputs": [
        {
          "output_type": "stream",
          "name": "stdout",
          "text": [
            "\u001b[?25l     \u001b[90m━━━━━━━━━━━━━━━━━━━━━━━━━━━━━━━━━━━━━━━━\u001b[0m \u001b[32m0.0/15.9 MB\u001b[0m \u001b[31m?\u001b[0m eta \u001b[36m-:--:--\u001b[0m\r\u001b[2K     \u001b[91m━━━\u001b[0m\u001b[91m╸\u001b[0m\u001b[90m━━━━━━━━━━━━━━━━━━━━━━━━━━━━━━━━━━━━\u001b[0m \u001b[32m1.6/15.9 MB\u001b[0m \u001b[31m47.3 MB/s\u001b[0m eta \u001b[36m0:00:01\u001b[0m\r\u001b[2K     \u001b[91m━━━━━━━━━━━━━━━━━━━━\u001b[0m\u001b[91m╸\u001b[0m\u001b[90m━━━━━━━━━━━━━━━━━━━\u001b[0m \u001b[32m8.3/15.9 MB\u001b[0m \u001b[31m120.1 MB/s\u001b[0m eta \u001b[36m0:00:01\u001b[0m\r\u001b[2K     \u001b[91m━━━━━━━━━━━━━━━━━━━━━━━━━━━━\u001b[0m\u001b[90m╺\u001b[0m\u001b[90m━━━━━━━━━━\u001b[0m \u001b[32m11.5/15.9 MB\u001b[0m \u001b[31m175.7 MB/s\u001b[0m eta \u001b[36m0:00:01\u001b[0m\r\u001b[2K     \u001b[91m━━━━━━━━━━━━━━━━━━━━━━━━━━━━━━━━━━━━━━\u001b[0m\u001b[91m╸\u001b[0m \u001b[32m15.9/15.9 MB\u001b[0m \u001b[31m130.8 MB/s\u001b[0m eta \u001b[36m0:00:01\u001b[0m\r\u001b[2K     \u001b[91m━━━━━━━━━━━━━━━━━━━━━━━━━━━━━━━━━━━━━━\u001b[0m\u001b[91m╸\u001b[0m \u001b[32m15.9/15.9 MB\u001b[0m \u001b[31m130.8 MB/s\u001b[0m eta \u001b[36m0:00:01\u001b[0m\r\u001b[2K     \u001b[90m━━━━━━━━━━━━━━━━━━━━━━━━━━━━━━━━━━━━━━━━\u001b[0m \u001b[32m15.9/15.9 MB\u001b[0m \u001b[31m67.2 MB/s\u001b[0m eta \u001b[36m0:00:00\u001b[0m\n",
            "\u001b[?25h"
          ]
        }
      ]
    },
    {
      "cell_type": "code",
      "source": [
        "! gdown --id 1Utv6rrhK438i6RSVm6TSB-qQOqmf3TaQ"
      ],
      "metadata": {
        "colab": {
          "base_uri": "https://localhost:8080/"
        },
        "id": "rcsDZWzubdcC",
        "outputId": "b25ef3a8-0fab-4676-de0c-5f8669a62384"
      },
      "id": "rcsDZWzubdcC",
      "execution_count": 2,
      "outputs": [
        {
          "output_type": "stream",
          "name": "stdout",
          "text": [
            "/usr/local/lib/python3.10/dist-packages/gdown/cli.py:121: FutureWarning: Option `--id` was deprecated in version 4.3.1 and will be removed in 5.0. You don't need to pass it anymore to use a file ID.\n",
            "  warnings.warn(\n",
            "Downloading...\n",
            "From: https://drive.google.com/uc?id=1Utv6rrhK438i6RSVm6TSB-qQOqmf3TaQ\n",
            "To: /content/database.sqlite\n",
            "100% 836M/836M [00:14<00:00, 58.6MB/s]\n"
          ]
        }
      ]
    },
    {
      "cell_type": "code",
      "source": [
        "! gdown --id 15GvgJ2hOwNU30F3-YkYfF9NVWUJdhorl"
      ],
      "metadata": {
        "colab": {
          "base_uri": "https://localhost:8080/"
        },
        "id": "S93u3xv4Y4jv",
        "outputId": "4af92c87-95e1-480f-c0f4-de698bb08527"
      },
      "id": "S93u3xv4Y4jv",
      "execution_count": 3,
      "outputs": [
        {
          "output_type": "stream",
          "name": "stdout",
          "text": [
            "/usr/local/lib/python3.10/dist-packages/gdown/cli.py:121: FutureWarning: Option `--id` was deprecated in version 4.3.1 and will be removed in 5.0. You don't need to pass it anymore to use a file ID.\n",
            "  warnings.warn(\n",
            "Downloading...\n",
            "From: https://drive.google.com/uc?id=15GvgJ2hOwNU30F3-YkYfF9NVWUJdhorl\n",
            "To: /content/title_count.jpg\n",
            "100% 56.5k/56.5k [00:00<00:00, 76.4MB/s]\n"
          ]
        }
      ]
    },
    {
      "cell_type": "code",
      "source": [
        "!pip install --upgrade scipy -q"
      ],
      "metadata": {
        "id": "QFB3fji84MXA"
      },
      "id": "QFB3fji84MXA",
      "execution_count": 4,
      "outputs": []
    },
    {
      "cell_type": "code",
      "source": [
        "import sqlite3\n",
        "import duckdb\n",
        "import pandas as pd\n",
        "import matplotlib.pyplot as plt\n",
        "import seaborn as sns\n",
        "from scipy import stats\n",
        "from scipy.stats import ttest_ind\n",
        "from statsmodels.stats.proportion import proportions_ztest\n",
        "import numpy as np\n",
        "import sqlite3\n",
        "import csv"
      ],
      "metadata": {
        "id": "XMfV9HGZwv1Z"
      },
      "id": "XMfV9HGZwv1Z",
      "execution_count": 5,
      "outputs": []
    },
    {
      "cell_type": "code",
      "source": [
        "sqlite_conn = sqlite3.connect('/content/database.sqlite')\n",
        "sqlite_conn.execute(\"CREATE INDEX idx_categories_podcast_id ON categories(podcast_id)\")\n",
        "sqlite_conn.execute(\"CREATE INDEX idx_podcasts_podcast_id ON podcasts(podcast_id)\")\n",
        "sqlite_conn.execute(\"CREATE INDEX idx_reviews_podcast_id ON reviews(podcast_id)\")\n",
        "\n",
        "sqlite_conn.commit()\n",
        "#sqlite_conn.close()"
      ],
      "metadata": {
        "id": "LifmoTNodv3o"
      },
      "id": "LifmoTNodv3o",
      "execution_count": 6,
      "outputs": []
    },
    {
      "cell_type": "code",
      "source": [
        "categories_df = pd.read_sql_query(\"SELECT * FROM categories\", sqlite_conn)\n",
        "podcasts_df = pd.read_sql_query(\"SELECT * FROM podcasts\", sqlite_conn)\n",
        "reviews_df = pd.read_sql_query(\"SELECT * FROM reviews\", sqlite_conn)\n",
        "runs_df = pd.read_sql_query(\"SELECT * FROM runs\", sqlite_conn)\n"
      ],
      "metadata": {
        "id": "co8tjQnab_YB"
      },
      "id": "co8tjQnab_YB",
      "execution_count": 7,
      "outputs": []
    },
    {
      "cell_type": "code",
      "source": [
        "duckdb_conn = duckdb.connect()\n",
        "\n",
        "duckdb_conn.register(\"categories\", categories_df)\n",
        "duckdb_conn.register(\"podcasts\", podcasts_df)\n",
        "duckdb_conn.register(\"reviews\", reviews_df)\n",
        "duckdb_conn.register(\"runs\", runs_df);\n"
      ],
      "metadata": {
        "id": "A0_Jf8xYxCoR"
      },
      "id": "A0_Jf8xYxCoR",
      "execution_count": 8,
      "outputs": []
    },
    {
      "cell_type": "markdown",
      "source": [
        "###Overview of the Data"
      ],
      "metadata": {
        "id": "-G68lwbF4_tQ"
      },
      "id": "-G68lwbF4_tQ"
    },
    {
      "cell_type": "code",
      "source": [
        "categories = \"\"\" SELECT * FROM categories \"\"\"\n",
        "\n",
        "podcasts = \"\"\"SELECT * FROM podcasts \"\"\"\n",
        "\n",
        "reviews = \"\"\" SELECT * FROM reviews \"\"\"\n",
        "\n",
        "runs = \"\"\" SELECT * FROM runs \"\"\"\n",
        "\n",
        "queries = {\"categories\":categories, \"podcasts\": podcasts, \"reviews\": reviews,\"runs\" : runs }\n",
        "dataframes = {}\n",
        "for key, query in queries.items():\n",
        "  result = duckdb_conn.execute(query)\n",
        "  data = result.fetchall()\n",
        "  columns = [desc[0] for desc in result.description]\n",
        "  dataframes[f\"df_{key}\"] = pd.DataFrame(data, columns=columns)\n",
        "  print(dataframes[f\"df_{key}\"].head())\n",
        "  print(\"----------------------------------------------------------\")"
      ],
      "metadata": {
        "id": "L3RNlzpfxIdo",
        "outputId": "bdbcbe3f-8c73-4e68-b853-94504a5a9cca",
        "colab": {
          "base_uri": "https://localhost:8080/"
        }
      },
      "id": "L3RNlzpfxIdo",
      "execution_count": 9,
      "outputs": [
        {
          "output_type": "stream",
          "name": "stdout",
          "text": [
            "                         podcast_id              category\n",
            "0  c61aa81c9b929a66f0c1db6cbe5d8548                  arts\n",
            "1  c61aa81c9b929a66f0c1db6cbe5d8548  arts-performing-arts\n",
            "2  c61aa81c9b929a66f0c1db6cbe5d8548                 music\n",
            "3  ad4f2bf69c72b8db75978423c25f379e                  arts\n",
            "4  ad4f2bf69c72b8db75978423c25f379e           arts-design\n",
            "----------------------------------------------------------\n",
            "                         podcast_id   itunes_id  \\\n",
            "0  a00018b54eb342567c94dacfb2a3e504  1313466221   \n",
            "1  a00043d34e734b09246d17dc5d56f63c   158973461   \n",
            "2  a0004b1ef445af9dc84dad1e7821b1e3   139076942   \n",
            "3  a00071f9aaae9ac725c3a586701abf4d  1332508972   \n",
            "4  a000a500f06555f81220c3eb641aded7  1544900779   \n",
            "\n",
            "                                    slug  \\\n",
            "0                         scaling-global   \n",
            "1  cornerstone-baptist-church-of-orlando   \n",
            "2            mystery-dancing-in-the-dark   \n",
            "3                      kts-money-matters   \n",
            "4       word-on-the-street-w-dreak-swift   \n",
            "\n",
            "                                          itunes_url  \\\n",
            "0  https://podcasts.apple.com/us/podcast/scaling-...   \n",
            "1  https://podcasts.apple.com/us/podcast/cornerst...   \n",
            "2  https://podcasts.apple.com/us/podcast/mystery-...   \n",
            "3  https://podcasts.apple.com/us/podcast/kts-mone...   \n",
            "4  https://podcasts.apple.com/us/podcast/word-on-...   \n",
            "\n",
            "                                   title  \n",
            "0                         Scaling Global  \n",
            "1  Cornerstone Baptist Church of Orlando  \n",
            "2           Mystery: Dancing in the Dark  \n",
            "3                      KTs Money Matters  \n",
            "4      Word on the Street w/ Dreak Swift  \n",
            "----------------------------------------------------------\n",
            "                         podcast_id  \\\n",
            "0  c61aa81c9b929a66f0c1db6cbe5d8548   \n",
            "1  c61aa81c9b929a66f0c1db6cbe5d8548   \n",
            "2  ad4f2bf69c72b8db75978423c25f379e   \n",
            "3  ad4f2bf69c72b8db75978423c25f379e   \n",
            "4  ad4f2bf69c72b8db75978423c25f379e   \n",
            "\n",
            "                                              title  \\\n",
            "0                               really interesting!   \n",
            "1  Must listen for anyone interested in the arts!!!   \n",
            "2                                 nauseatingly left   \n",
            "3                                   Diverse stories   \n",
            "4                                              👍👍👍👍   \n",
            "\n",
            "                                             content  rating        author_id  \\\n",
            "0  Thanks for providing these insights.  Really e...       5  F7E5A318989779D   \n",
            "1  Super excited to see this podcast grow. So man...       5  F6BF5472689BD12   \n",
            "2  I'm a liberal myself, but its pretty obvious a...       1  1AB95B8E6E1309E   \n",
            "3  I find Tedx talks very inspirational but I oft...       5  11BB760AA5DEBD1   \n",
            "4                I love this podcast, it is so good.       5  D86032C8E57D15A   \n",
            "\n",
            "                  created_at  \n",
            "0  2018-04-24T12:05:16-07:00  \n",
            "1  2018-05-09T18:14:32-07:00  \n",
            "2  2019-06-11T14:53:39-07:00  \n",
            "3  2018-05-31T13:08:09-07:00  \n",
            "4  2019-06-19T13:56:05-07:00  \n",
            "----------------------------------------------------------\n",
            "                run_at  max_rowid  reviews_added\n",
            "0  2021-05-10 02:53:00    3266481        1215223\n",
            "1  2021-06-06 21:34:36    3300773          13139\n",
            "2  2021-07-02 18:04:55    3329699          11561\n",
            "3  2021-08-01 17:54:42    3360315          11855\n",
            "4  2021-09-02 18:00:30    3390165          11714\n",
            "----------------------------------------------------------\n"
          ]
        }
      ]
    },
    {
      "cell_type": "markdown",
      "source": [
        "###Check if there are any missing values and dublicates in the DataFrame"
      ],
      "metadata": {
        "id": "MgY-bwWK4y4B"
      },
      "id": "MgY-bwWK4y4B"
    },
    {
      "cell_type": "code",
      "source": [
        "for key, df in dataframes.items():\n",
        "  print(f\"{key} have {len(df)} observations.\")\n",
        "  print(f\"{key} have {int(df.isnull().any().any())} null values.\")\n",
        "  print(f\"{key} have {df.duplicated().sum()} duplicates.\")\n"
      ],
      "metadata": {
        "id": "K_mYRMTK16Nj",
        "colab": {
          "base_uri": "https://localhost:8080/"
        },
        "outputId": "f5259d4f-8bfd-4506-d9a4-b5a1fd94cd5f"
      },
      "id": "K_mYRMTK16Nj",
      "execution_count": 10,
      "outputs": [
        {
          "output_type": "stream",
          "name": "stdout",
          "text": [
            "df_categories have 212372 observations.\n",
            "df_categories have 0 null values.\n",
            "df_categories have 0 duplicates.\n",
            "df_podcasts have 110024 observations.\n",
            "df_podcasts have 0 null values.\n",
            "df_podcasts have 0 duplicates.\n",
            "df_reviews have 2067529 observations.\n",
            "df_reviews have 0 null values.\n",
            "df_reviews have 655 duplicates.\n",
            "df_runs have 16 observations.\n",
            "df_runs have 0 null values.\n",
            "df_runs have 0 duplicates.\n"
          ]
        }
      ]
    },
    {
      "cell_type": "markdown",
      "source": [
        "### Join tables"
      ],
      "metadata": {
        "id": "gHdH01xz69t5"
      },
      "id": "gHdH01xz69t5"
    },
    {
      "cell_type": "markdown",
      "source": [
        "In order to make the process smooth, let's merge the table"
      ],
      "metadata": {
        "id": "DDAGrnJp7Exf"
      },
      "id": "DDAGrnJp7Exf"
    },
    {
      "cell_type": "code",
      "source": [
        "query = \"\"\"\n",
        "SELECT COALESCE(c.podcast_id, r.podcast_id) AS podcast_id,\n",
        "       c.category,\n",
        "       r.title AS rating_title,\n",
        "       r.content,\n",
        "       r.rating,\n",
        "       r.author_id,\n",
        "       r.created_at\n",
        "FROM categories c\n",
        "FULL JOIN reviews r ON c.podcast_id = r.podcast_id\n",
        "\"\"\"\n",
        "chunk_size  = 250000\n",
        "data = []\n",
        "offset = 0\n",
        "\n",
        "while True:\n",
        "    query_chunk = f\"{query} LIMIT {chunk_size} OFFSET {offset}\"\n",
        "    result = duckdb_conn.execute(query_chunk)\n",
        "    chunk_data = result.fetchall()\n",
        "    if len(chunk_data) == 0:\n",
        "        break\n",
        "\n",
        "    data.extend(chunk_data)\n",
        "    offset += chunk_size\n",
        "\n",
        "columns = [desc[0] for desc in result.description]\n",
        "df = pd.DataFrame(data, columns=columns)\n",
        "duckdb_conn.close()\n",
        "\n",
        "print(df.head());"
      ],
      "metadata": {
        "colab": {
          "base_uri": "https://localhost:8080/",
          "height": 1000,
          "referenced_widgets": [
            "fb8f5a6f7bc249a7884f4c5ee41da408",
            "ab8a3e2da21b4179b9b845dec30c4fab",
            "100bcdc2d7d1462c8822b3347c0488c2",
            "040341499d6d469b82c9085b91c15bd0",
            "8738818ff5c8454e818978c1410a2d0b",
            "061e594c2dbd400994ca4a3e44b6b5b2",
            "c9373ac926c64b73ac83f27611dc21d6",
            "87953bd1e645472b88863dcac4f8f10b",
            "a64519ee599c4d9f899e4e7f96f7ccd2",
            "8769231be5314a0d8bfb3a60b09fb49b",
            "506c5a9fca8e4b55921341cdfe0d394b",
            "965b4f54546645e79181731a97e0dd8f",
            "cd1fdd2da5644b9a8b6d1ac46574b5db",
            "e82fbc1a0c9a45d1badb9de90ad7a39a",
            "9833fe3fba0543b59e6e0e9cb5a93ad5",
            "1a6688c183d34ad8969cc6644d2c2543",
            "fc5e8ef3edd448329c9b1fd81baee7c6",
            "bdd04014de1444219cf54b90d0347904",
            "204fe0a5044f45bb81c37f88acf9b095",
            "a7cb363d1aeb478096af113a7dd4c680",
            "d1de0217f2a44da0856ad172e9cb91d6",
            "a3ef4113ecab494e91ad45507b75bf69",
            "e06ee14afe734c489810d8d4c7532a3c",
            "13c67049a5384b79a57aa0e4082d1b23",
            "c4fb04b63530478c997ef03c844ea1f4",
            "b28ddbdaf9124b2aad5f7de0c4ee97f7",
            "057dce18f0704e3ea8428c4555937790",
            "fd2ec6ab6e37493fb8dc1ea5048efdfa",
            "2c74b17a0f2241ac972c04ba4861d2b5",
            "e9729db4e9a142bd953ae9e420777891",
            "3dd407cf10324ff29a7c97a266d651c7",
            "eeca97a25f3342edb4af2438a7a340ec",
            "e8cc10c8b8674f939d72d10fa8852d28",
            "854bc4b149c5476f9d6ef881768bdeea",
            "e009274db6f24ba9b83475956284d843",
            "b94ac74e89414c0393a64a0cd6f77312",
            "70bb79d9bb294c3290c5cb24f3835ea3",
            "496d08976e65475487d7275d1ab6aa69",
            "2d8fed7d91ba4d9da941af5297ff0790",
            "c4e12f4c4d9c4f48a1fd3dba446abf09",
            "6c5821bec8d64719859e580c2e917e3b",
            "2bd4dd9a62ac4578be558b5e1afa1408",
            "52674cc155e54457ad2c2e09c173cc9c",
            "52a301e1f5ca40a2994a28deb0340d8e",
            "18bad3fde6ec4812ab5fdd583bbbead8",
            "cdf67922025048efbf6fd630d2ddba42",
            "bf4a996c70e04f2f9362bbd95f0770f9",
            "27250de3e6ac4af8947c6a28108a5985",
            "fe6cdda4603948f4a8bdf653854c290f",
            "e7a205fb4ea848d9ba047fb52793887a",
            "3bf3d52b21d740a4a65720fd9892d42a",
            "7558961c412b46ceb0d00b79d74cb7f5",
            "dcf728f316554710982c9330ad85a6f6",
            "b387fdf0f9544bdd9f9866efef0a517a",
            "8d6a1bf129874c21bb881885708eeb11",
            "9c846922a02a4ec89e656f72c2e84e3c",
            "7f61867b6dd4493eabc4e89591f63aef",
            "858eba5bde5c469ab26939a869ad5bd8",
            "662963ec34164f9a91c8e02860ad8164",
            "0bdcdf1dfc394e9c8cc2ad710b5a469c"
          ]
        },
        "id": "D1TybRye7CUY",
        "outputId": "9f37d342-3364-46fb-9d03-3c0be2885167"
      },
      "id": "D1TybRye7CUY",
      "execution_count": 11,
      "outputs": [
        {
          "output_type": "display_data",
          "data": {
            "text/plain": [
              "FloatProgress(value=0.0, layout=Layout(width='auto'), style=ProgressStyle(bar_color='black'))"
            ],
            "application/vnd.jupyter.widget-view+json": {
              "version_major": 2,
              "version_minor": 0,
              "model_id": "fb8f5a6f7bc249a7884f4c5ee41da408"
            }
          },
          "metadata": {}
        },
        {
          "output_type": "display_data",
          "data": {
            "text/plain": [
              "FloatProgress(value=0.0, layout=Layout(width='auto'), style=ProgressStyle(bar_color='black'))"
            ],
            "application/vnd.jupyter.widget-view+json": {
              "version_major": 2,
              "version_minor": 0,
              "model_id": "040341499d6d469b82c9085b91c15bd0"
            }
          },
          "metadata": {}
        },
        {
          "output_type": "display_data",
          "data": {
            "text/plain": [
              "FloatProgress(value=0.0, layout=Layout(width='auto'), style=ProgressStyle(bar_color='black'))"
            ],
            "application/vnd.jupyter.widget-view+json": {
              "version_major": 2,
              "version_minor": 0,
              "model_id": "c9373ac926c64b73ac83f27611dc21d6"
            }
          },
          "metadata": {}
        },
        {
          "output_type": "display_data",
          "data": {
            "text/plain": [
              "FloatProgress(value=0.0, layout=Layout(width='auto'), style=ProgressStyle(bar_color='black'))"
            ],
            "application/vnd.jupyter.widget-view+json": {
              "version_major": 2,
              "version_minor": 0,
              "model_id": "8769231be5314a0d8bfb3a60b09fb49b"
            }
          },
          "metadata": {}
        },
        {
          "output_type": "display_data",
          "data": {
            "text/plain": [
              "FloatProgress(value=0.0, layout=Layout(width='auto'), style=ProgressStyle(bar_color='black'))"
            ],
            "application/vnd.jupyter.widget-view+json": {
              "version_major": 2,
              "version_minor": 0,
              "model_id": "cd1fdd2da5644b9a8b6d1ac46574b5db"
            }
          },
          "metadata": {}
        },
        {
          "output_type": "display_data",
          "data": {
            "text/plain": [
              "FloatProgress(value=0.0, layout=Layout(width='auto'), style=ProgressStyle(bar_color='black'))"
            ],
            "application/vnd.jupyter.widget-view+json": {
              "version_major": 2,
              "version_minor": 0,
              "model_id": "1a6688c183d34ad8969cc6644d2c2543"
            }
          },
          "metadata": {}
        },
        {
          "output_type": "display_data",
          "data": {
            "text/plain": [
              "FloatProgress(value=0.0, layout=Layout(width='auto'), style=ProgressStyle(bar_color='black'))"
            ],
            "application/vnd.jupyter.widget-view+json": {
              "version_major": 2,
              "version_minor": 0,
              "model_id": "204fe0a5044f45bb81c37f88acf9b095"
            }
          },
          "metadata": {}
        },
        {
          "output_type": "display_data",
          "data": {
            "text/plain": [
              "FloatProgress(value=0.0, layout=Layout(width='auto'), style=ProgressStyle(bar_color='black'))"
            ],
            "application/vnd.jupyter.widget-view+json": {
              "version_major": 2,
              "version_minor": 0,
              "model_id": "a3ef4113ecab494e91ad45507b75bf69"
            }
          },
          "metadata": {}
        },
        {
          "output_type": "display_data",
          "data": {
            "text/plain": [
              "FloatProgress(value=0.0, layout=Layout(width='auto'), style=ProgressStyle(bar_color='black'))"
            ],
            "application/vnd.jupyter.widget-view+json": {
              "version_major": 2,
              "version_minor": 0,
              "model_id": "c4fb04b63530478c997ef03c844ea1f4"
            }
          },
          "metadata": {}
        },
        {
          "output_type": "display_data",
          "data": {
            "text/plain": [
              "FloatProgress(value=0.0, layout=Layout(width='auto'), style=ProgressStyle(bar_color='black'))"
            ],
            "application/vnd.jupyter.widget-view+json": {
              "version_major": 2,
              "version_minor": 0,
              "model_id": "fd2ec6ab6e37493fb8dc1ea5048efdfa"
            }
          },
          "metadata": {}
        },
        {
          "output_type": "display_data",
          "data": {
            "text/plain": [
              "FloatProgress(value=0.0, layout=Layout(width='auto'), style=ProgressStyle(bar_color='black'))"
            ],
            "application/vnd.jupyter.widget-view+json": {
              "version_major": 2,
              "version_minor": 0,
              "model_id": "3dd407cf10324ff29a7c97a266d651c7"
            }
          },
          "metadata": {}
        },
        {
          "output_type": "display_data",
          "data": {
            "text/plain": [
              "FloatProgress(value=0.0, layout=Layout(width='auto'), style=ProgressStyle(bar_color='black'))"
            ],
            "application/vnd.jupyter.widget-view+json": {
              "version_major": 2,
              "version_minor": 0,
              "model_id": "854bc4b149c5476f9d6ef881768bdeea"
            }
          },
          "metadata": {}
        },
        {
          "output_type": "display_data",
          "data": {
            "text/plain": [
              "FloatProgress(value=0.0, layout=Layout(width='auto'), style=ProgressStyle(bar_color='black'))"
            ],
            "application/vnd.jupyter.widget-view+json": {
              "version_major": 2,
              "version_minor": 0,
              "model_id": "70bb79d9bb294c3290c5cb24f3835ea3"
            }
          },
          "metadata": {}
        },
        {
          "output_type": "display_data",
          "data": {
            "text/plain": [
              "FloatProgress(value=0.0, layout=Layout(width='auto'), style=ProgressStyle(bar_color='black'))"
            ],
            "application/vnd.jupyter.widget-view+json": {
              "version_major": 2,
              "version_minor": 0,
              "model_id": "c4e12f4c4d9c4f48a1fd3dba446abf09"
            }
          },
          "metadata": {}
        },
        {
          "output_type": "display_data",
          "data": {
            "text/plain": [
              "FloatProgress(value=0.0, layout=Layout(width='auto'), style=ProgressStyle(bar_color='black'))"
            ],
            "application/vnd.jupyter.widget-view+json": {
              "version_major": 2,
              "version_minor": 0,
              "model_id": "52674cc155e54457ad2c2e09c173cc9c"
            }
          },
          "metadata": {}
        },
        {
          "output_type": "display_data",
          "data": {
            "text/plain": [
              "FloatProgress(value=0.0, layout=Layout(width='auto'), style=ProgressStyle(bar_color='black'))"
            ],
            "application/vnd.jupyter.widget-view+json": {
              "version_major": 2,
              "version_minor": 0,
              "model_id": "cdf67922025048efbf6fd630d2ddba42"
            }
          },
          "metadata": {}
        },
        {
          "output_type": "display_data",
          "data": {
            "text/plain": [
              "FloatProgress(value=0.0, layout=Layout(width='auto'), style=ProgressStyle(bar_color='black'))"
            ],
            "application/vnd.jupyter.widget-view+json": {
              "version_major": 2,
              "version_minor": 0,
              "model_id": "fe6cdda4603948f4a8bdf653854c290f"
            }
          },
          "metadata": {}
        },
        {
          "output_type": "display_data",
          "data": {
            "text/plain": [
              "FloatProgress(value=0.0, layout=Layout(width='auto'), style=ProgressStyle(bar_color='black'))"
            ],
            "application/vnd.jupyter.widget-view+json": {
              "version_major": 2,
              "version_minor": 0,
              "model_id": "7558961c412b46ceb0d00b79d74cb7f5"
            }
          },
          "metadata": {}
        },
        {
          "output_type": "display_data",
          "data": {
            "text/plain": [
              "FloatProgress(value=0.0, layout=Layout(width='auto'), style=ProgressStyle(bar_color='black'))"
            ],
            "application/vnd.jupyter.widget-view+json": {
              "version_major": 2,
              "version_minor": 0,
              "model_id": "8d6a1bf129874c21bb881885708eeb11"
            }
          },
          "metadata": {}
        },
        {
          "output_type": "display_data",
          "data": {
            "text/plain": [
              "FloatProgress(value=0.0, layout=Layout(width='auto'), style=ProgressStyle(bar_color='black'))"
            ],
            "application/vnd.jupyter.widget-view+json": {
              "version_major": 2,
              "version_minor": 0,
              "model_id": "858eba5bde5c469ab26939a869ad5bd8"
            }
          },
          "metadata": {}
        },
        {
          "output_type": "stream",
          "name": "stdout",
          "text": [
            "                         podcast_id              category  \\\n",
            "0  c61aa81c9b929a66f0c1db6cbe5d8548                  arts   \n",
            "1  c61aa81c9b929a66f0c1db6cbe5d8548  arts-performing-arts   \n",
            "2  c61aa81c9b929a66f0c1db6cbe5d8548                 music   \n",
            "3  ad4f2bf69c72b8db75978423c25f379e                  arts   \n",
            "4  ad4f2bf69c72b8db75978423c25f379e           arts-design   \n",
            "\n",
            "                                       rating_title  \\\n",
            "0  Must listen for anyone interested in the arts!!!   \n",
            "1  Must listen for anyone interested in the arts!!!   \n",
            "2  Must listen for anyone interested in the arts!!!   \n",
            "3                                           Until..   \n",
            "4                                           Until..   \n",
            "\n",
            "                                             content  rating        author_id  \\\n",
            "0  Super excited to see this podcast grow. So man...       5  F6BF5472689BD12   \n",
            "1  Super excited to see this podcast grow. So man...       5  F6BF5472689BD12   \n",
            "2  Super excited to see this podcast grow. So man...       5  F6BF5472689BD12   \n",
            "3  You find out this is a progressive-liberal ech...       1  AEE38FABD49B625   \n",
            "4  You find out this is a progressive-liberal ech...       1  AEE38FABD49B625   \n",
            "\n",
            "                  created_at  \n",
            "0  2018-05-09T18:14:32-07:00  \n",
            "1  2018-05-09T18:14:32-07:00  \n",
            "2  2018-05-09T18:14:32-07:00  \n",
            "3  2023-01-25T08:53:27-07:00  \n",
            "4  2023-01-25T08:53:27-07:00  \n"
          ]
        }
      ]
    },
    {
      "cell_type": "code",
      "source": [
        "df.info()\n"
      ],
      "metadata": {
        "colab": {
          "base_uri": "https://localhost:8080/"
        },
        "id": "JBdc_pWOUWDW",
        "outputId": "a39353ca-07d4-4fea-9ea0-cf1b1e2eeae7"
      },
      "id": "JBdc_pWOUWDW",
      "execution_count": 12,
      "outputs": [
        {
          "output_type": "stream",
          "name": "stdout",
          "text": [
            "<class 'pandas.core.frame.DataFrame'>\n",
            "RangeIndex: 4553715 entries, 0 to 4553714\n",
            "Data columns (total 7 columns):\n",
            " #   Column        Dtype \n",
            "---  ------        ----- \n",
            " 0   podcast_id    object\n",
            " 1   category      object\n",
            " 2   rating_title  object\n",
            " 3   content       object\n",
            " 4   rating        int64 \n",
            " 5   author_id     object\n",
            " 6   created_at    object\n",
            "dtypes: int64(1), object(6)\n",
            "memory usage: 243.2+ MB\n"
          ]
        }
      ]
    },
    {
      "cell_type": "markdown",
      "source": [
        "##Exploratory Data Analysis"
      ],
      "metadata": {
        "id": "LBJgJFH9JF9_"
      },
      "id": "LBJgJFH9JF9_"
    },
    {
      "cell_type": "markdown",
      "source": [
        "In order to understand the dataset better, the following EDA investigation can be undertaken:\n",
        "\n",
        "1. Distribution of Categories\n",
        "2. Podcast Ratings\n",
        "3. Reviews Analysis\n",
        "4. Statistical Inference\n",
        "5. Analysis using Google Studio.\n",
        "\n",
        "\n"
      ],
      "metadata": {
        "id": "W5BB_dwSJL85"
      },
      "id": "W5BB_dwSJL85"
    },
    {
      "cell_type": "markdown",
      "source": [
        "### 1. Distribution of Categories"
      ],
      "metadata": {
        "id": "LJA70Zp4Jk6F"
      },
      "id": "LJA70Zp4Jk6F"
    },
    {
      "cell_type": "markdown",
      "source": [
        "The distribution of categories can be done either by\n",
        "* Exploring the distribution of podcasts across different categories or\n",
        "* Determining which categories have the highest number of podcasts."
      ],
      "metadata": {
        "id": "snJClzJdLNTZ"
      },
      "id": "snJClzJdLNTZ"
    },
    {
      "cell_type": "code",
      "source": [
        "df[\"category\"].value_counts()\n"
      ],
      "metadata": {
        "colab": {
          "base_uri": "https://localhost:8080/"
        },
        "id": "6yOYddogL8B0",
        "outputId": "c2befd25-6d0e-469a-cd0b-0e6c45382ce8"
      },
      "id": "6yOYddogL8B0",
      "execution_count": 13,
      "outputs": [
        {
          "output_type": "execute_result",
          "data": {
            "text/plain": [
              "society-culture        441873\n",
              "comedy                 350849\n",
              "education              221829\n",
              "business               210082\n",
              "news                   180552\n",
              "                        ...  \n",
              "science-chemistry         162\n",
              "science-mathematics       162\n",
              "sports-swimming           130\n",
              "sports-volleyball         103\n",
              "sports-cricket             84\n",
              "Name: category, Length: 110, dtype: int64"
            ]
          },
          "metadata": {},
          "execution_count": 13
        }
      ]
    },
    {
      "cell_type": "code",
      "source": [
        "top_categories = df['category'].value_counts().nlargest(10).index\n",
        "\n",
        "df_1 = df[df['category'].isin(top_categories)]\n",
        "category_order = df_1['category'].value_counts().index\n",
        "ax = sns.countplot(y=\"category\", data=df_1, order = category_order)\n",
        "ax.set_xlabel(\"No. of Podcasts\")\n",
        "ax.set_ylabel(\"Categories\")\n",
        "ax.set_title(\"The number of Podcasts in the top 10 Categories\");"
      ],
      "metadata": {
        "colab": {
          "base_uri": "https://localhost:8080/",
          "height": 472
        },
        "id": "y5zVwJJ_NBeT",
        "outputId": "3a7178dd-da45-4cd2-89e3-2042eb28c18c"
      },
      "id": "y5zVwJJ_NBeT",
      "execution_count": 14,
      "outputs": [
        {
          "output_type": "display_data",
          "data": {
            "text/plain": [
              "<Figure size 640x480 with 1 Axes>"
            ],
            "image/png": "[encoded data removed]"
          },
          "metadata": {}
        }
      ]
    },
    {
      "cell_type": "markdown",
      "source": [
        "*The Category with the higest number of podcasts is society-culture followed by comedy and education.*"
      ],
      "metadata": {
        "id": "fgCEUzCcSRWi"
      },
      "id": "fgCEUzCcSRWi"
    },
    {
      "cell_type": "markdown",
      "source": [
        "### 2. Podcast Ratings"
      ],
      "metadata": {
        "id": "BIU3Vju4Ql8I"
      },
      "id": "BIU3Vju4Ql8I"
    },
    {
      "cell_type": "markdown",
      "source": [
        "When analyzing the distribution of podcast ratings, we can calculate summary statistics such as the mean, median, and mode. This will help us get a sense of the central tendency and variability of the ratings. Additionally, visualizing the ratings using histograms or box plots can provide a graphical representation of the rating distribution, helping identify any outliers or patterns in the data."
      ],
      "metadata": {
        "id": "X2Spt-_gRj-E"
      },
      "id": "X2Spt-_gRj-E"
    },
    {
      "cell_type": "code",
      "source": [
        "ax2 = sns.countplot(x=\"rating\", data=df)\n",
        "ax2.set_xlabel(\"Rating\")\n",
        "ax2.set_ylabel(\"No of Rating counts\")\n",
        "ax2.set_title(\"The number of Podcasts in the different ratings\");"
      ],
      "metadata": {
        "colab": {
          "base_uri": "https://localhost:8080/",
          "height": 472
        },
        "id": "kCRGoGZqQqYF",
        "outputId": "313d3cff-fbae-42c6-daae-97a596e1449a"
      },
      "id": "kCRGoGZqQqYF",
      "execution_count": 15,
      "outputs": [
        {
          "output_type": "display_data",
          "data": {
            "text/plain": [
              "<Figure size 640x480 with 1 Axes>"
            ],
            "image/png": "[encoded data removed]"
          },
          "metadata": {}
        }
      ]
    },
    {
      "cell_type": "markdown",
      "source": [
        "*The majority of the podcasts has 5 star rating.*"
      ],
      "metadata": {
        "id": "PP-5BwpdStg-"
      },
      "id": "PP-5BwpdStg-"
    },
    {
      "cell_type": "code",
      "source": [
        "df.describe()"
      ],
      "metadata": {
        "colab": {
          "base_uri": "https://localhost:8080/",
          "height": 300
        },
        "id": "xLHjSUjZTIBk",
        "outputId": "cb5ca3f0-ab58-4311-ad90-7866f4417bd9"
      },
      "id": "xLHjSUjZTIBk",
      "execution_count": 16,
      "outputs": [
        {
          "output_type": "execute_result",
          "data": {
            "text/plain": [
              "             rating\n",
              "count  4.553715e+06\n",
              "mean   4.653789e+00\n",
              "std    1.010553e+00\n",
              "min    1.000000e+00\n",
              "25%    5.000000e+00\n",
              "50%    5.000000e+00\n",
              "75%    5.000000e+00\n",
              "max    5.000000e+00"
            ],
            "text/html": [
              "\n",
              "  <div id=\"df-89581788-4aec-4013-910a-2b99c0aefcd0\">\n",
              "    <div class=\"colab-df-container\">\n",
              "      <div>\n",
              "<style scoped>\n",
              "    .dataframe tbody tr th:only-of-type {\n",
              "        vertical-align: middle;\n",
              "    }\n",
              "\n",
              "    .dataframe tbody tr th {\n",
              "        vertical-align: top;\n",
              "    }\n",
              "\n",
              "    .dataframe thead th {\n",
              "        text-align: right;\n",
              "    }\n",
              "</style>\n",
              "<table border=\"1\" class=\"dataframe\">\n",
              "  <thead>\n",
              "    <tr style=\"text-align: right;\">\n",
              "      <th></th>\n",
              "      <th>rating</th>\n",
              "    </tr>\n",
              "  </thead>\n",
              "  <tbody>\n",
              "    <tr>\n",
              "      <th>count</th>\n",
              "      <td>4.553715e+06</td>\n",
              "    </tr>\n",
              "    <tr>\n",
              "      <th>mean</th>\n",
              "      <td>4.653789e+00</td>\n",
              "    </tr>\n",
              "    <tr>\n",
              "      <th>std</th>\n",
              "      <td>1.010553e+00</td>\n",
              "    </tr>\n",
              "    <tr>\n",
              "      <th>min</th>\n",
              "      <td>1.000000e+00</td>\n",
              "    </tr>\n",
              "    <tr>\n",
              "      <th>25%</th>\n",
              "      <td>5.000000e+00</td>\n",
              "    </tr>\n",
              "    <tr>\n",
              "      <th>50%</th>\n",
              "      <td>5.000000e+00</td>\n",
              "    </tr>\n",
              "    <tr>\n",
              "      <th>75%</th>\n",
              "      <td>5.000000e+00</td>\n",
              "    </tr>\n",
              "    <tr>\n",
              "      <th>max</th>\n",
              "      <td>5.000000e+00</td>\n",
              "    </tr>\n",
              "  </tbody>\n",
              "</table>\n",
              "</div>\n",
              "      <button class=\"colab-df-convert\" onclick=\"convertToInteractive('df-89581788-4aec-4013-910a-2b99c0aefcd0')\"\n",
              "              title=\"Convert this dataframe to an interactive table.\"\n",
              "              style=\"display:none;\">\n",
              "        \n",
              "  <svg xmlns=\"http://www.w3.org/2000/svg\" height=\"24px\"viewBox=\"0 0 24 24\"\n",
              "       width=\"24px\">\n",
              "    <path d=\"M0 0h24v24H0V0z\" fill=\"none\"/>\n",
              "    <path d=\"M18.56 5.44l.94 2.06.94-2.06 2.06-.94-2.06-.94-.94-2.06-.94 2.06-2.06.94zm-11 1L8.5 8.5l.94-2.06 2.06-.94-2.06-.94L8.5 2.5l-.94 2.06-2.06.94zm10 10l.94 2.06.94-2.06 2.06-.94-2.06-.94-.94-2.06-.94 2.06-2.06.94z\"/><path d=\"M17.41 7.96l-1.37-1.37c-.4-.4-.92-.59-1.43-.59-.52 0-1.04.2-1.43.59L10.3 9.45l-7.72 7.72c-.78.78-.78 2.05 0 2.83L4 21.41c.39.39.9.59 1.41.59.51 0 1.02-.2 1.41-.59l7.78-7.78 2.81-2.81c.8-.78.8-2.07 0-2.86zM5.41 20L4 18.59l7.72-7.72 1.47 1.35L5.41 20z\"/>\n",
              "  </svg>\n",
              "      </button>\n",
              "      \n",
              "  <style>\n",
              "    .colab-df-container {\n",
              "      display:flex;\n",
              "      flex-wrap:wrap;\n",
              "      gap: 12px;\n",
              "    }\n",
              "\n",
              "    .colab-df-convert {\n",
              "      background-color: #E8F0FE;\n",
              "      border: none;\n",
              "      border-radius: 50%;\n",
              "      cursor: pointer;\n",
              "      display: none;\n",
              "      fill: #1967D2;\n",
              "      height: 32px;\n",
              "      padding: 0 0 0 0;\n",
              "      width: 32px;\n",
              "    }\n",
              "\n",
              "    .colab-df-convert:hover {\n",
              "      background-color: #E2EBFA;\n",
              "      box-shadow: 0px 1px 2px rgba(60, 64, 67, 0.3), 0px 1px 3px 1px rgba(60, 64, 67, 0.15);\n",
              "      fill: #174EA6;\n",
              "    }\n",
              "\n",
              "    [theme=dark] .colab-df-convert {\n",
              "      background-color: #3B4455;\n",
              "      fill: #D2E3FC;\n",
              "    }\n",
              "\n",
              "    [theme=dark] .colab-df-convert:hover {\n",
              "      background-color: #434B5C;\n",
              "      box-shadow: 0px 1px 3px 1px rgba(0, 0, 0, 0.15);\n",
              "      filter: drop-shadow(0px 1px 2px rgba(0, 0, 0, 0.3));\n",
              "      fill: #FFFFFF;\n",
              "    }\n",
              "  </style>\n",
              "\n",
              "      <script>\n",
              "        const buttonEl =\n",
              "          document.querySelector('#df-89581788-4aec-4013-910a-2b99c0aefcd0 button.colab-df-convert');\n",
              "        buttonEl.style.display =\n",
              "          google.colab.kernel.accessAllowed ? 'block' : 'none';\n",
              "\n",
              "        async function convertToInteractive(key) {\n",
              "          const element = document.querySelector('#df-89581788-4aec-4013-910a-2b99c0aefcd0');\n",
              "          const dataTable =\n",
              "            await google.colab.kernel.invokeFunction('convertToInteractive',\n",
              "                                                     [key], {});\n",
              "          if (!dataTable) return;\n",
              "\n",
              "          const docLinkHtml = 'Like what you see? Visit the ' +\n",
              "            '<a target=\"_blank\" href=https://colab.research.google.com/notebooks/data_table.ipynb>data table notebook</a>'\n",
              "            + ' to learn more about interactive tables.';\n",
              "          element.innerHTML = '';\n",
              "          dataTable['output_type'] = 'display_data';\n",
              "          await google.colab.output.renderOutput(dataTable, element);\n",
              "          const docLink = document.createElement('div');\n",
              "          docLink.innerHTML = docLinkHtml;\n",
              "          element.appendChild(docLink);\n",
              "        }\n",
              "      </script>\n",
              "    </div>\n",
              "  </div>\n",
              "  "
            ]
          },
          "metadata": {},
          "execution_count": 16
        }
      ]
    },
    {
      "cell_type": "markdown",
      "source": [
        "*The result above shows that mean, median and standard deviation are 4.65, 5, and 1 respectively.*"
      ],
      "metadata": {
        "id": "Zg6c4z4QT2Za"
      },
      "id": "Zg6c4z4QT2Za"
    },
    {
      "cell_type": "code",
      "source": [
        "df_pdts_revs=dataframes[\"df_podcasts\"].merge(dataframes[\"df_reviews\"],\n",
        "                                             on=[\"podcast_id\"],suffixes=('_pdts', '_revs'))\n",
        "pdts_revs_5=df_pdts_revs[df_pdts_revs[\"rating\"]==5]\n",
        "result_pdts_revs_5 = pdts_revs_5.groupby(\"title_pdts\").agg(\n",
        "    {\"rating\": \"count\"}).sort_values(by=\"rating\", ascending=False).reset_index().head(10)\n",
        "result_pdts_revs_5\n",
        "\n"
      ],
      "metadata": {
        "colab": {
          "base_uri": "https://localhost:8080/",
          "height": 363
        },
        "id": "qpO52r16IdGi",
        "outputId": "f40c5cd0-5614-4aa5-f706-e038d9e5e68e"
      },
      "id": "qpO52r16IdGi",
      "execution_count": 17,
      "outputs": [
        {
          "output_type": "execute_result",
          "data": {
            "text/plain": [
              "                                          title_pdts  rating\n",
              "0                                       Crime Junkie   24927\n",
              "1                                   Wow in the World    8590\n",
              "2                                      Story Pirates    6532\n",
              "3  My Favorite Murder with Karen Kilgariff and Ge...    6131\n",
              "4                                True Crime Obsessed    5527\n",
              "5                               The Ben Shapiro Show    5402\n",
              "6                Know Your Aura with Mystic Michaela    5015\n",
              "7                                    Crime in Sports    4980\n",
              "8             FantasyPros - Fantasy Football Podcast    4277\n",
              "9                                       Wine & Crime    4105"
            ],
            "text/html": [
              "\n",
              "  <div id=\"df-5ef7de16-bdbf-41ee-8be7-0a4a638a1da8\">\n",
              "    <div class=\"colab-df-container\">\n",
              "      <div>\n",
              "<style scoped>\n",
              "    .dataframe tbody tr th:only-of-type {\n",
              "        vertical-align: middle;\n",
              "    }\n",
              "\n",
              "    .dataframe tbody tr th {\n",
              "        vertical-align: top;\n",
              "    }\n",
              "\n",
              "    .dataframe thead th {\n",
              "        text-align: right;\n",
              "    }\n",
              "</style>\n",
              "<table border=\"1\" class=\"dataframe\">\n",
              "  <thead>\n",
              "    <tr style=\"text-align: right;\">\n",
              "      <th></th>\n",
              "      <th>title_pdts</th>\n",
              "      <th>rating</th>\n",
              "    </tr>\n",
              "  </thead>\n",
              "  <tbody>\n",
              "    <tr>\n",
              "      <th>0</th>\n",
              "      <td>Crime Junkie</td>\n",
              "      <td>24927</td>\n",
              "    </tr>\n",
              "    <tr>\n",
              "      <th>1</th>\n",
              "      <td>Wow in the World</td>\n",
              "      <td>8590</td>\n",
              "    </tr>\n",
              "    <tr>\n",
              "      <th>2</th>\n",
              "      <td>Story Pirates</td>\n",
              "      <td>6532</td>\n",
              "    </tr>\n",
              "    <tr>\n",
              "      <th>3</th>\n",
              "      <td>My Favorite Murder with Karen Kilgariff and Ge...</td>\n",
              "      <td>6131</td>\n",
              "    </tr>\n",
              "    <tr>\n",
              "      <th>4</th>\n",
              "      <td>True Crime Obsessed</td>\n",
              "      <td>5527</td>\n",
              "    </tr>\n",
              "    <tr>\n",
              "      <th>5</th>\n",
              "      <td>The Ben Shapiro Show</td>\n",
              "      <td>5402</td>\n",
              "    </tr>\n",
              "    <tr>\n",
              "      <th>6</th>\n",
              "      <td>Know Your Aura with Mystic Michaela</td>\n",
              "      <td>5015</td>\n",
              "    </tr>\n",
              "    <tr>\n",
              "      <th>7</th>\n",
              "      <td>Crime in Sports</td>\n",
              "      <td>4980</td>\n",
              "    </tr>\n",
              "    <tr>\n",
              "      <th>8</th>\n",
              "      <td>FantasyPros - Fantasy Football Podcast</td>\n",
              "      <td>4277</td>\n",
              "    </tr>\n",
              "    <tr>\n",
              "      <th>9</th>\n",
              "      <td>Wine &amp; Crime</td>\n",
              "      <td>4105</td>\n",
              "    </tr>\n",
              "  </tbody>\n",
              "</table>\n",
              "</div>\n",
              "      <button class=\"colab-df-convert\" onclick=\"convertToInteractive('df-5ef7de16-bdbf-41ee-8be7-0a4a638a1da8')\"\n",
              "              title=\"Convert this dataframe to an interactive table.\"\n",
              "              style=\"display:none;\">\n",
              "        \n",
              "  <svg xmlns=\"http://www.w3.org/2000/svg\" height=\"24px\"viewBox=\"0 0 24 24\"\n",
              "       width=\"24px\">\n",
              "    <path d=\"M0 0h24v24H0V0z\" fill=\"none\"/>\n",
              "    <path d=\"M18.56 5.44l.94 2.06.94-2.06 2.06-.94-2.06-.94-.94-2.06-.94 2.06-2.06.94zm-11 1L8.5 8.5l.94-2.06 2.06-.94-2.06-.94L8.5 2.5l-.94 2.06-2.06.94zm10 10l.94 2.06.94-2.06 2.06-.94-2.06-.94-.94-2.06-.94 2.06-2.06.94z\"/><path d=\"M17.41 7.96l-1.37-1.37c-.4-.4-.92-.59-1.43-.59-.52 0-1.04.2-1.43.59L10.3 9.45l-7.72 7.72c-.78.78-.78 2.05 0 2.83L4 21.41c.39.39.9.59 1.41.59.51 0 1.02-.2 1.41-.59l7.78-7.78 2.81-2.81c.8-.78.8-2.07 0-2.86zM5.41 20L4 18.59l7.72-7.72 1.47 1.35L5.41 20z\"/>\n",
              "  </svg>\n",
              "      </button>\n",
              "      \n",
              "  <style>\n",
              "    .colab-df-container {\n",
              "      display:flex;\n",
              "      flex-wrap:wrap;\n",
              "      gap: 12px;\n",
              "    }\n",
              "\n",
              "    .colab-df-convert {\n",
              "      background-color: #E8F0FE;\n",
              "      border: none;\n",
              "      border-radius: 50%;\n",
              "      cursor: pointer;\n",
              "      display: none;\n",
              "      fill: #1967D2;\n",
              "      height: 32px;\n",
              "      padding: 0 0 0 0;\n",
              "      width: 32px;\n",
              "    }\n",
              "\n",
              "    .colab-df-convert:hover {\n",
              "      background-color: #E2EBFA;\n",
              "      box-shadow: 0px 1px 2px rgba(60, 64, 67, 0.3), 0px 1px 3px 1px rgba(60, 64, 67, 0.15);\n",
              "      fill: #174EA6;\n",
              "    }\n",
              "\n",
              "    [theme=dark] .colab-df-convert {\n",
              "      background-color: #3B4455;\n",
              "      fill: #D2E3FC;\n",
              "    }\n",
              "\n",
              "    [theme=dark] .colab-df-convert:hover {\n",
              "      background-color: #434B5C;\n",
              "      box-shadow: 0px 1px 3px 1px rgba(0, 0, 0, 0.15);\n",
              "      filter: drop-shadow(0px 1px 2px rgba(0, 0, 0, 0.3));\n",
              "      fill: #FFFFFF;\n",
              "    }\n",
              "  </style>\n",
              "\n",
              "      <script>\n",
              "        const buttonEl =\n",
              "          document.querySelector('#df-5ef7de16-bdbf-41ee-8be7-0a4a638a1da8 button.colab-df-convert');\n",
              "        buttonEl.style.display =\n",
              "          google.colab.kernel.accessAllowed ? 'block' : 'none';\n",
              "\n",
              "        async function convertToInteractive(key) {\n",
              "          const element = document.querySelector('#df-5ef7de16-bdbf-41ee-8be7-0a4a638a1da8');\n",
              "          const dataTable =\n",
              "            await google.colab.kernel.invokeFunction('convertToInteractive',\n",
              "                                                     [key], {});\n",
              "          if (!dataTable) return;\n",
              "\n",
              "          const docLinkHtml = 'Like what you see? Visit the ' +\n",
              "            '<a target=\"_blank\" href=https://colab.research.google.com/notebooks/data_table.ipynb>data table notebook</a>'\n",
              "            + ' to learn more about interactive tables.';\n",
              "          element.innerHTML = '';\n",
              "          dataTable['output_type'] = 'display_data';\n",
              "          await google.colab.output.renderOutput(dataTable, element);\n",
              "          const docLink = document.createElement('div');\n",
              "          docLink.innerHTML = docLinkHtml;\n",
              "          element.appendChild(docLink);\n",
              "        }\n",
              "      </script>\n",
              "    </div>\n",
              "  </div>\n",
              "  "
            ]
          },
          "metadata": {},
          "execution_count": 17
        }
      ]
    },
    {
      "cell_type": "code",
      "source": [
        "ax22=sns.barplot(y=\"title_pdts\", x=\"rating\", data=result_pdts_revs_5)\n",
        "ax22.set_xlabel(\"No. of times Podcasted\")\n",
        "ax22.set_ylabel(\"Title of Podcast\")\n",
        "ax22.set_title(\"The Most Podcasted Title with Rating 5\");"
      ],
      "metadata": {
        "colab": {
          "base_uri": "https://localhost:8080/",
          "height": 472
        },
        "id": "Xjh-wX7AO9EQ",
        "outputId": "09fbbf1f-4f58-40ed-9c10-cbe401f115b1"
      },
      "id": "Xjh-wX7AO9EQ",
      "execution_count": 18,
      "outputs": [
        {
          "output_type": "display_data",
          "data": {
            "text/plain": [
              "<Figure size 640x480 with 1 Axes>"
            ],
            "image/png": "[encoded data removed]"
          },
          "metadata": {}
        }
      ]
    },
    {
      "cell_type": "markdown",
      "source": [
        "From the above plot, it shows that Crime Junkie whichi have 5 rating has been podcasted 25000 times from 2005 to 2023. The Crime Junkie has been podcasted almost three times the runner up."
      ],
      "metadata": {
        "id": "kvN6YPSmYpof"
      },
      "id": "kvN6YPSmYpof"
    },
    {
      "cell_type": "markdown",
      "source": [
        "##3. Reviews Analysis"
      ],
      "metadata": {
        "id": "aeraf9KEVVFQ"
      },
      "id": "aeraf9KEVVFQ"
    },
    {
      "cell_type": "markdown",
      "source": [
        "There are different approaches that can be taken to do the review analysis. The path I have chosen to investigate are as follows:\n",
        "\n",
        "   - Investigate the relationship between the number of reviews added and the time.\n",
        "   - Determine if there is any correlation between podcast ratings and the number of reviews added."
      ],
      "metadata": {
        "id": "RFZYMP3nWw_U"
      },
      "id": "RFZYMP3nWw_U"
    },
    {
      "cell_type": "code",
      "source": [
        "df[\"date\"]=pd.to_datetime(df[\"created_at\"])\n",
        "df['year'] = df['date'].dt.year\n",
        "df['month'] = df['date'].dt.month\n",
        "month_names = ['January', 'February', 'March', 'April', 'May', 'June', 'July', 'August', 'September', 'October', 'November', 'December']"
      ],
      "metadata": {
        "id": "vyfhAjm8Tqjr"
      },
      "id": "vyfhAjm8Tqjr",
      "execution_count": 19,
      "outputs": []
    },
    {
      "cell_type": "code",
      "source": [
        "counts = df.groupby([df[\"year\"], df[\"month\"]])[\"podcast_id\"].count()\n",
        "counts_year = df.groupby([df[\"year\"]])[\"podcast_id\"].count()\n",
        "cumulative_counts = counts.groupby(level=0).cumsum()\n",
        "cumulative_counts = cumulative_counts.reset_index()\n",
        "\n",
        "cumulative_counts.columns = ['year', 'month','cumulative_sum']\n",
        "\n",
        "ax2=sns.lineplot(x='month', y='cumulative_sum', hue='year', data=cumulative_counts)\n",
        "month_names = ['', 'January', 'February', 'March', 'April', 'May', 'June', 'July', 'August', 'September', 'October', 'November', 'December']\n",
        "ax2.set_xticks(range(len(month_names)), month_names);\n",
        "ax2.set_xticklabels(ax2.get_xticklabels(), rotation=90)\n",
        "ax2.set_title('No. of Podcast Reviews by year')\n",
        "ax2.set_xlabel('Month')\n",
        "ax2.set_ylabel('No. of Podcasts');"
      ],
      "metadata": {
        "colab": {
          "base_uri": "https://localhost:8080/",
          "height": 534
        },
        "id": "6sptssOCXdW-",
        "outputId": "f08bbd23-f4d9-4a31-f7e7-8e2807d99928"
      },
      "id": "6sptssOCXdW-",
      "execution_count": 20,
      "outputs": [
        {
          "output_type": "display_data",
          "data": {
            "text/plain": [
              "<Figure size 640x480 with 1 Axes>"
            ],
            "image/png": "[encoded data removed]"
          },
          "metadata": {}
        }
      ]
    },
    {
      "cell_type": "code",
      "source": [
        "reviews_added = df.groupby(['podcast_id', 'rating']).size().reset_index(name='reviews_added')\n",
        "df_merged = pd.merge(df, reviews_added, on=['podcast_id', 'rating'])\n",
        "correlation = df_merged['rating'].corr(df_merged['reviews_added'])\n",
        "print(correlation)\n"
      ],
      "metadata": {
        "id": "zam3tqy0XxLp",
        "colab": {
          "base_uri": "https://localhost:8080/"
        },
        "outputId": "9500db23-f258-4614-decd-b10c1d193437"
      },
      "id": "zam3tqy0XxLp",
      "execution_count": 21,
      "outputs": [
        {
          "output_type": "stream",
          "name": "stdout",
          "text": [
            "0.10441847626877294\n"
          ]
        }
      ]
    },
    {
      "cell_type": "markdown",
      "source": [
        "Pearson correlation between the number of reviews added and the podcast ratings shows that there is not relationship."
      ],
      "metadata": {
        "id": "jilu7X4TnRqV"
      },
      "id": "jilu7X4TnRqV"
    },
    {
      "cell_type": "markdown",
      "source": [
        "##4. Statistical Inference"
      ],
      "metadata": {
        "id": "zQ1KhuBfrVE6"
      },
      "id": "zQ1KhuBfrVE6"
    },
    {
      "cell_type": "markdown",
      "source": [
        "###Compare the mean of two groups\n",
        "\n"
      ],
      "metadata": {
        "id": "QXYWosHrvpEU"
      },
      "id": "QXYWosHrvpEU"
    },
    {
      "cell_type": "markdown",
      "source": [
        "####Example"
      ],
      "metadata": {
        "id": "s1H7MXNv5r0K"
      },
      "id": "s1H7MXNv5r0K"
    },
    {
      "cell_type": "markdown",
      "source": [
        "To Perform statistical inference, hypotheses can be formulated. One research question can be,\n",
        "H0 (Null hypothesis): The mean ratings of podcasts in the 'Arts' category and the 'Music' category are equal.\n",
        "Ha (Alternative hypothesis): The mean ratings of podcasts in the 'Arts' category and the 'Music' category are not equal.\n",
        "\n",
        "Moreover, significance levels of 0.05 (5%) can be chosen and this determines the probability of rejecting the null hypothesis when it is actually true."
      ],
      "metadata": {
        "id": "LZrWunmQrcat"
      },
      "id": "LZrWunmQrcat"
    },
    {
      "cell_type": "code",
      "source": [
        "rating_data = df['rating']\n",
        "\n",
        "art = rating_data[df['category'] == 'arts']\n",
        "music = rating_data[df['category'] == 'music']\n",
        "\n",
        "t_statistic, p_value = ttest_ind(art, music)\n",
        "\n",
        "print(\"T-Statistic:\", t_statistic)\n",
        "print(\"P-Value:\", p_value)"
      ],
      "metadata": {
        "colab": {
          "base_uri": "https://localhost:8080/"
        },
        "id": "KDPmda3NohUs",
        "outputId": "d2331481-7db3-4019-8b39-b575c81c83b5"
      },
      "id": "KDPmda3NohUs",
      "execution_count": 22,
      "outputs": [
        {
          "output_type": "stream",
          "name": "stdout",
          "text": [
            "T-Statistic: -8.05273003351758\n",
            "P-Value: 8.141634600121694e-16\n"
          ]
        }
      ]
    },
    {
      "cell_type": "markdown",
      "source": [
        "The low p-value (3.095219191354355e-15) in the above output indicates that there is a strong evidence to reject the null hypothesis and suggests that there is a significant difference in ratings between the two categories."
      ],
      "metadata": {
        "id": "QNlWUSPnsvWz"
      },
      "id": "QNlWUSPnsvWz"
    },
    {
      "cell_type": "markdown",
      "source": [
        "###Difference of the population proportion of two groups"
      ],
      "metadata": {
        "id": "TG1EN2_MwSFD"
      },
      "id": "TG1EN2_MwSFD"
    },
    {
      "cell_type": "markdown",
      "source": [
        "####Example"
      ],
      "metadata": {
        "id": "umkSXS8Y6zmN"
      },
      "id": "umkSXS8Y6zmN"
    },
    {
      "cell_type": "markdown",
      "source": [
        "In this analysis, we are comparing the population proportions of podcasts in the 'sports' and 'news' categories. The aim of this example is to determine if there is a significant difference between the proportions of highly-rated podcasts (rating > 3) in these two categories.\n",
        "\n",
        "The null hypothesis (H0) states that there is no significant difference between the proportions of highly-rated podcasts in the 'sports' and 'news' categories.\n",
        "\n",
        "The alternative hypothesis (Ha) suggests that there is a significant difference between these proportions."
      ],
      "metadata": {
        "id": "h9JWJrcP67DN"
      },
      "id": "h9JWJrcP67DN"
    },
    {
      "cell_type": "code",
      "source": [
        "df_sport = df[df['category'] == 'sports']\n",
        "df_news = df[df['category'] == 'news']\n",
        "\n",
        "success_sport = df_sport[df_sport['rating'] > 3]['rating'].count()\n",
        "trials_sport = df_sport['rating'].count()\n",
        "\n",
        "success_news = df_news[df_news['rating'] > 3]['rating'].count()\n",
        "trials_news = df_news['rating'].count()\n",
        "\n",
        "z_score, p_value = proportions_ztest([success_sport, success_news], [trials_sport, trials_news])\n",
        "\n",
        "diff_proportions = success_sport / trials_sport - success_news / trials_news\n",
        "\n",
        "print(\"Difference in Population Proportions (sport - news):\", diff_proportions)\n",
        "print(\"Z-Score:\", z_score)\n",
        "print(\"P-Value:\", p_value)\n"
      ],
      "metadata": {
        "colab": {
          "base_uri": "https://localhost:8080/"
        },
        "id": "KhEDruc_ohzu",
        "outputId": "bd522ef0-bd4d-4b2b-ac23-1cc28d650475"
      },
      "id": "KhEDruc_ohzu",
      "execution_count": 23,
      "outputs": [
        {
          "output_type": "stream",
          "name": "stdout",
          "text": [
            "Difference in Population Proportions (sport - news): 0.08629142719022631\n",
            "Z-Score: 71.740801345586\n",
            "P-Value: 0.0\n"
          ]
        }
      ]
    },
    {
      "cell_type": "markdown",
      "source": [
        "In the given analysis, the difference in population proportions (sport - news) is approximately 0.0877. The calculated z-score is 73.1360, and the resulting p-value is very low (p < 0.001). This indicates strong evidence to reject the null hypothesis and suggests a significant difference in the proportions of highly-rated podcasts between the 'sports' and 'news' categories."
      ],
      "metadata": {
        "id": "Pa0TiakA7SUY"
      },
      "id": "Pa0TiakA7SUY"
    },
    {
      "cell_type": "markdown",
      "source": [
        "####Using Confidence Interval"
      ],
      "metadata": {
        "id": "1xGtiXlM_Jgy"
      },
      "id": "1xGtiXlM_Jgy"
    },
    {
      "cell_type": "code",
      "source": [
        "proportion_sport = success_sport / trials_sport\n",
        "proportion_news = success_news / trials_news\n",
        "\n",
        "se_sport = np.sqrt(proportion_sport * (1 - proportion_sport) / trials_sport)\n",
        "se_news = np.sqrt(proportion_news * (1 - proportion_news) / trials_news)\n",
        "\n",
        "confidence_level = 0.95\n",
        "alpha = 1 - confidence_level\n",
        "\n",
        "critical_value = stats.norm.ppf(1 - alpha / 2)\n",
        "\n",
        "margin_of_error = critical_value * np.sqrt(se_sport**2 + se_news**2)\n",
        "\n",
        "lower_ci = (proportion_sport - proportion_news) - margin_of_error\n",
        "upper_ci = (proportion_sport - proportion_news) + margin_of_error\n",
        "\n",
        "print(\"Confidence Interval:\", (lower_ci, upper_ci))"
      ],
      "metadata": {
        "id": "NZN56el8w6XC",
        "colab": {
          "base_uri": "https://localhost:8080/"
        },
        "outputId": "50188948-9742-4c7b-9c34-d3a023da0221"
      },
      "id": "NZN56el8w6XC",
      "execution_count": 24,
      "outputs": [
        {
          "output_type": "stream",
          "name": "stdout",
          "text": [
            "Confidence Interval: (0.08395858095175354, 0.08862427342869908)\n"
          ]
        }
      ]
    },
    {
      "cell_type": "markdown",
      "source": [
        "Based on the provided confidence interval (0.0853, 0.0899) and assuming a significance level of 0.05, we can make the following conclusion regarding the null hypothesis:\n",
        "\n",
        "Since the confidence interval does not contain the value of 0, we can conclude that the difference in population proportions between the 'sports' and 'news' categories is statistically significant at a 5% significance level. Therefore, we would reject the null hypothesis, which states that there is no difference in the population proportions of positive ratings between the two categories.\n"
      ],
      "metadata": {
        "id": "cBSEazGL_Nva"
      },
      "id": "cBSEazGL_Nva"
    },
    {
      "cell_type": "code",
      "source": [],
      "metadata": {
        "id": "rhMFrtuyFiA7"
      },
      "id": "rhMFrtuyFiA7",
      "execution_count": 24,
      "outputs": []
    },
    {
      "cell_type": "markdown",
      "source": [
        "##5. Analysis using Google Studio"
      ],
      "metadata": {
        "id": "eq2dRBgsuVaQ"
      },
      "id": "eq2dRBgsuVaQ"
    },
    {
      "cell_type": "markdown",
      "source": [
        "Since our database is big, we will extract the top 100000 observations as csv file from FULL JOIN of the Category and the review table to be used in Google Studio."
      ],
      "metadata": {
        "id": "QOEVl7zIR0Yt"
      },
      "id": "QOEVl7zIR0Yt"
    },
    {
      "cell_type": "code",
      "source": [
        "conn = sqlite3.connect('database.sqlite')\n",
        "cursor = conn.cursor()\n",
        "\n",
        "cursor.execute('''SELECT c.podcast_id,\n",
        "                          c.category,\n",
        "                          r.title AS rating_title,\n",
        "                          r.content,\n",
        "                          r.rating,\n",
        "                          r.author_id,\n",
        "                          r.created_at\n",
        "                  FROM categories c\n",
        "                  LEFT JOIN reviews r ON c.podcast_id = r.podcast_id\n",
        "\n",
        "                  UNION ALL\n",
        "\n",
        "                  SELECT r.podcast_id,\n",
        "                          c.category,\n",
        "                          r.title AS rating_title,\n",
        "                          r.content,\n",
        "                          r.rating,\n",
        "                          r.author_id,\n",
        "                          r.created_at\n",
        "                  FROM reviews r\n",
        "                  LEFT JOIN categories c ON c.podcast_id = r.podcast_id\n",
        "                  WHERE c.podcast_id IS NULL\n",
        "                  LIMIT 100000''')\n",
        "\n",
        "rows = cursor.fetchall()\n",
        "\n",
        "csv_file = 'merged.csv'\n",
        "\n",
        "with open(csv_file, 'w', newline='') as f:\n",
        "\n",
        "    writer = csv.writer(f)\n",
        "\n",
        "\n",
        "    column_names = [description[0] for description in cursor.description]\n",
        "    writer.writerow(column_names)\n",
        "\n",
        "\n",
        "    writer.writerows(rows)\n",
        "\n",
        "conn.close()\n",
        "\n",
        "print('Conversion complete. CSV file saved as', csv_file)\n"
      ],
      "metadata": {
        "colab": {
          "base_uri": "https://localhost:8080/"
        },
        "id": "Lw1AyyvCuZ6m",
        "outputId": "1dc14fe9-3345-40a9-e1ba-08c14ca6d095"
      },
      "id": "Lw1AyyvCuZ6m",
      "execution_count": 25,
      "outputs": [
        {
          "output_type": "stream",
          "name": "stdout",
          "text": [
            "Conversion complete. CSV file saved as merged.csv\n"
          ]
        }
      ]
    },
    {
      "cell_type": "markdown",
      "source": [
        "**Input from Google Studio**"
      ],
      "metadata": {
        "id": "6qNYRvR-ZA_1"
      },
      "id": "6qNYRvR-ZA_1"
    },
    {
      "cell_type": "markdown",
      "source": [
        "![Picture](https://drive.google.com/uc?id=15GvgJ2hOwNU30F3-YkYfF9NVWUJdhorl)"
      ],
      "metadata": {
        "id": "8jww6-nKaZdt"
      },
      "id": "8jww6-nKaZdt"
    },
    {
      "cell_type": "code",
      "source": [
        "ax3=sns.countplot(y='rating_title', data=df)\n",
        "ax3.set_ylabel(\"Title of Ratings\")\n",
        "ax3.set_xlabel(\"No\");"
      ],
      "metadata": {
        "id": "WkmP4PY1IDS0"
      },
      "id": "WkmP4PY1IDS0",
      "execution_count": null,
      "outputs": []
    },
    {
      "cell_type": "markdown",
      "source": [
        "The above graph shows that the majority of the audience for the podcast wrote their title Great Podcast."
      ],
      "metadata": {
        "id": "McORta28a88i"
      },
      "id": "McORta28a88i"
    },
    {
      "cell_type": "markdown",
      "source": [
        "![Picture](https://drive.google.com/uc?id=1JWPGfrzz3Ity7nz4zdGdE-yyHAQbbypC)"
      ],
      "metadata": {
        "id": "YFShrQBKsao1"
      },
      "id": "YFShrQBKsao1"
    },
    {
      "cell_type": "markdown",
      "source": [
        "The graph above illustrates an increase in the number of podcast reviews over time for the first 100000 observation of the merged table between review and category table."
      ],
      "metadata": {
        "id": "Zbw4mgTxs72L"
      },
      "id": "Zbw4mgTxs72L"
    },
    {
      "cell_type": "markdown",
      "source": [
        "![Picture](https://drive.google.com/uc?id=12n1p4d1kHl5pcb0Rvp1_vcnSeaZz3MdL)"
      ],
      "metadata": {
        "id": "b0EQTrEp1BME"
      },
      "id": "b0EQTrEp1BME"
    },
    {
      "cell_type": "markdown",
      "source": [
        "The above plot shows the highest number reviews received for rating 5 by category. This plot shows that arts podcasts have the highest number of rating in the top 100000 observations of the dataset."
      ],
      "metadata": {
        "id": "LQrCTtA61S4D"
      },
      "id": "LQrCTtA61S4D"
    },
    {
      "cell_type": "code",
      "source": [],
      "metadata": {
        "id": "b0jgL96P1k2C"
      },
      "id": "b0jgL96P1k2C",
      "execution_count": null,
      "outputs": []
    }
  ],
  "metadata": {
    "kernelspec": {
      "display_name": "Python 3",
      "language": "python",
      "name": "python3"
    },
    "language_info": {
      "codemirror_mode": {
        "name": "ipython",
        "version": 3
      },
      "file_extension": ".py",
      "mimetype": "text/x-python",
      "name": "python",
      "nbconvert_exporter": "python",
      "pygments_lexer": "ipython3",
      "version": "3.9.5"
    },
    "colab": {
      "provenance": []
    },
    "widgets": {
      "application/vnd.jupyter.widget-state+json": {
        "fb8f5a6f7bc249a7884f4c5ee41da408": {
          "model_module": "@jupyter-widgets/controls",
          "model_name": "FloatProgressModel",
          "model_module_version": "1.5.0",
          "state": {
            "_dom_classes": [],
            "_model_module": "@jupyter-widgets/controls",
            "_model_module_version": "1.5.0",
            "_model_name": "FloatProgressModel",
            "_view_count": null,
            "_view_module": "@jupyter-widgets/controls",
            "_view_module_version": "1.5.0",
            "_view_name": "ProgressView",
            "bar_style": "",
            "description": "",
            "description_tooltip": null,
            "layout": "IPY_MODEL_ab8a3e2da21b4179b9b845dec30c4fab",
            "max": 100,
            "min": 0,
            "orientation": "horizontal",
            "style": "IPY_MODEL_100bcdc2d7d1462c8822b3347c0488c2",
            "value": 100
          }
        },
        "ab8a3e2da21b4179b9b845dec30c4fab": {
          "model_module": "@jupyter-widgets/base",
          "model_name": "LayoutModel",
          "model_module_version": "1.2.0",
          "state": {
            "_model_module": "@jupyter-widgets/base",
            "_model_module_version": "1.2.0",
            "_model_name": "LayoutModel",
            "_view_count": null,
            "_view_module": "@jupyter-widgets/base",
            "_view_module_version": "1.2.0",
            "_view_name": "LayoutView",
            "align_content": null,
            "align_items": null,
            "align_self": null,
            "border": null,
            "bottom": null,
            "display": null,
            "flex": null,
            "flex_flow": null,
            "grid_area": null,
            "grid_auto_columns": null,
            "grid_auto_flow": null,
            "grid_auto_rows": null,
            "grid_column": null,
            "grid_gap": null,
            "grid_row": null,
            "grid_template_areas": null,
            "grid_template_columns": null,
            "grid_template_rows": null,
            "height": null,
            "justify_content": null,
            "justify_items": null,
            "left": null,
            "margin": null,
            "max_height": null,
            "max_width": null,
            "min_height": null,
            "min_width": null,
            "object_fit": null,
            "object_position": null,
            "order": null,
            "overflow": null,
            "overflow_x": null,
            "overflow_y": null,
            "padding": null,
            "right": null,
            "top": null,
            "visibility": null,
            "width": "auto"
          }
        },
        "100bcdc2d7d1462c8822b3347c0488c2": {
          "model_module": "@jupyter-widgets/controls",
          "model_name": "ProgressStyleModel",
          "model_module_version": "1.5.0",
          "state": {
            "_model_module": "@jupyter-widgets/controls",
            "_model_module_version": "1.5.0",
            "_model_name": "ProgressStyleModel",
            "_view_count": null,
            "_view_module": "@jupyter-widgets/base",
            "_view_module_version": "1.2.0",
            "_view_name": "StyleView",
            "bar_color": "black",
            "description_width": ""
          }
        },
        "040341499d6d469b82c9085b91c15bd0": {
          "model_module": "@jupyter-widgets/controls",
          "model_name": "FloatProgressModel",
          "model_module_version": "1.5.0",
          "state": {
            "_dom_classes": [],
            "_model_module": "@jupyter-widgets/controls",
            "_model_module_version": "1.5.0",
            "_model_name": "FloatProgressModel",
            "_view_count": null,
            "_view_module": "@jupyter-widgets/controls",
            "_view_module_version": "1.5.0",
            "_view_name": "ProgressView",
            "bar_style": "",
            "description": "",
            "description_tooltip": null,
            "layout": "IPY_MODEL_8738818ff5c8454e818978c1410a2d0b",
            "max": 100,
            "min": 0,
            "orientation": "horizontal",
            "style": "IPY_MODEL_061e594c2dbd400994ca4a3e44b6b5b2",
            "value": 100
          }
        },
        "8738818ff5c8454e818978c1410a2d0b": {
          "model_module": "@jupyter-widgets/base",
          "model_name": "LayoutModel",
          "model_module_version": "1.2.0",
          "state": {
            "_model_module": "@jupyter-widgets/base",
            "_model_module_version": "1.2.0",
            "_model_name": "LayoutModel",
            "_view_count": null,
            "_view_module": "@jupyter-widgets/base",
            "_view_module_version": "1.2.0",
            "_view_name": "LayoutView",
            "align_content": null,
            "align_items": null,
            "align_self": null,
            "border": null,
            "bottom": null,
            "display": null,
            "flex": null,
            "flex_flow": null,
            "grid_area": null,
            "grid_auto_columns": null,
            "grid_auto_flow": null,
            "grid_auto_rows": null,
            "grid_column": null,
            "grid_gap": null,
            "grid_row": null,
            "grid_template_areas": null,
            "grid_template_columns": null,
            "grid_template_rows": null,
            "height": null,
            "justify_content": null,
            "justify_items": null,
            "left": null,
            "margin": null,
            "max_height": null,
            "max_width": null,
            "min_height": null,
            "min_width": null,
            "object_fit": null,
            "object_position": null,
            "order": null,
            "overflow": null,
            "overflow_x": null,
            "overflow_y": null,
            "padding": null,
            "right": null,
            "top": null,
            "visibility": null,
            "width": "auto"
          }
        },
        "061e594c2dbd400994ca4a3e44b6b5b2": {
          "model_module": "@jupyter-widgets/controls",
          "model_name": "ProgressStyleModel",
          "model_module_version": "1.5.0",
          "state": {
            "_model_module": "@jupyter-widgets/controls",
            "_model_module_version": "1.5.0",
            "_model_name": "ProgressStyleModel",
            "_view_count": null,
            "_view_module": "@jupyter-widgets/base",
            "_view_module_version": "1.2.0",
            "_view_name": "StyleView",
            "bar_color": "black",
            "description_width": ""
          }
        },
        "c9373ac926c64b73ac83f27611dc21d6": {
          "model_module": "@jupyter-widgets/controls",
          "model_name": "FloatProgressModel",
          "model_module_version": "1.5.0",
          "state": {
            "_dom_classes": [],
            "_model_module": "@jupyter-widgets/controls",
            "_model_module_version": "1.5.0",
            "_model_name": "FloatProgressModel",
            "_view_count": null,
            "_view_module": "@jupyter-widgets/controls",
            "_view_module_version": "1.5.0",
            "_view_name": "ProgressView",
            "bar_style": "",
            "description": "",
            "description_tooltip": null,
            "layout": "IPY_MODEL_87953bd1e645472b88863dcac4f8f10b",
            "max": 100,
            "min": 0,
            "orientation": "horizontal",
            "style": "IPY_MODEL_a64519ee599c4d9f899e4e7f96f7ccd2",
            "value": 100
          }
        },
        "87953bd1e645472b88863dcac4f8f10b": {
          "model_module": "@jupyter-widgets/base",
          "model_name": "LayoutModel",
          "model_module_version": "1.2.0",
          "state": {
            "_model_module": "@jupyter-widgets/base",
            "_model_module_version": "1.2.0",
            "_model_name": "LayoutModel",
            "_view_count": null,
            "_view_module": "@jupyter-widgets/base",
            "_view_module_version": "1.2.0",
            "_view_name": "LayoutView",
            "align_content": null,
            "align_items": null,
            "align_self": null,
            "border": null,
            "bottom": null,
            "display": null,
            "flex": null,
            "flex_flow": null,
            "grid_area": null,
            "grid_auto_columns": null,
            "grid_auto_flow": null,
            "grid_auto_rows": null,
            "grid_column": null,
            "grid_gap": null,
            "grid_row": null,
            "grid_template_areas": null,
            "grid_template_columns": null,
            "grid_template_rows": null,
            "height": null,
            "justify_content": null,
            "justify_items": null,
            "left": null,
            "margin": null,
            "max_height": null,
            "max_width": null,
            "min_height": null,
            "min_width": null,
            "object_fit": null,
            "object_position": null,
            "order": null,
            "overflow": null,
            "overflow_x": null,
            "overflow_y": null,
            "padding": null,
            "right": null,
            "top": null,
            "visibility": null,
            "width": "auto"
          }
        },
        "a64519ee599c4d9f899e4e7f96f7ccd2": {
          "model_module": "@jupyter-widgets/controls",
          "model_name": "ProgressStyleModel",
          "model_module_version": "1.5.0",
          "state": {
            "_model_module": "@jupyter-widgets/controls",
            "_model_module_version": "1.5.0",
            "_model_name": "ProgressStyleModel",
            "_view_count": null,
            "_view_module": "@jupyter-widgets/base",
            "_view_module_version": "1.2.0",
            "_view_name": "StyleView",
            "bar_color": "black",
            "description_width": ""
          }
        },
        "8769231be5314a0d8bfb3a60b09fb49b": {
          "model_module": "@jupyter-widgets/controls",
          "model_name": "FloatProgressModel",
          "model_module_version": "1.5.0",
          "state": {
            "_dom_classes": [],
            "_model_module": "@jupyter-widgets/controls",
            "_model_module_version": "1.5.0",
            "_model_name": "FloatProgressModel",
            "_view_count": null,
            "_view_module": "@jupyter-widgets/controls",
            "_view_module_version": "1.5.0",
            "_view_name": "ProgressView",
            "bar_style": "",
            "description": "",
            "description_tooltip": null,
            "layout": "IPY_MODEL_506c5a9fca8e4b55921341cdfe0d394b",
            "max": 100,
            "min": 0,
            "orientation": "horizontal",
            "style": "IPY_MODEL_965b4f54546645e79181731a97e0dd8f",
            "value": 100
          }
        },
        "506c5a9fca8e4b55921341cdfe0d394b": {
          "model_module": "@jupyter-widgets/base",
          "model_name": "LayoutModel",
          "model_module_version": "1.2.0",
          "state": {
            "_model_module": "@jupyter-widgets/base",
            "_model_module_version": "1.2.0",
            "_model_name": "LayoutModel",
            "_view_count": null,
            "_view_module": "@jupyter-widgets/base",
            "_view_module_version": "1.2.0",
            "_view_name": "LayoutView",
            "align_content": null,
            "align_items": null,
            "align_self": null,
            "border": null,
            "bottom": null,
            "display": null,
            "flex": null,
            "flex_flow": null,
            "grid_area": null,
            "grid_auto_columns": null,
            "grid_auto_flow": null,
            "grid_auto_rows": null,
            "grid_column": null,
            "grid_gap": null,
            "grid_row": null,
            "grid_template_areas": null,
            "grid_template_columns": null,
            "grid_template_rows": null,
            "height": null,
            "justify_content": null,
            "justify_items": null,
            "left": null,
            "margin": null,
            "max_height": null,
            "max_width": null,
            "min_height": null,
            "min_width": null,
            "object_fit": null,
            "object_position": null,
            "order": null,
            "overflow": null,
            "overflow_x": null,
            "overflow_y": null,
            "padding": null,
            "right": null,
            "top": null,
            "visibility": null,
            "width": "auto"
          }
        },
        "965b4f54546645e79181731a97e0dd8f": {
          "model_module": "@jupyter-widgets/controls",
          "model_name": "ProgressStyleModel",
          "model_module_version": "1.5.0",
          "state": {
            "_model_module": "@jupyter-widgets/controls",
            "_model_module_version": "1.5.0",
            "_model_name": "ProgressStyleModel",
            "_view_count": null,
            "_view_module": "@jupyter-widgets/base",
            "_view_module_version": "1.2.0",
            "_view_name": "StyleView",
            "bar_color": "black",
            "description_width": ""
          }
        },
        "cd1fdd2da5644b9a8b6d1ac46574b5db": {
          "model_module": "@jupyter-widgets/controls",
          "model_name": "FloatProgressModel",
          "model_module_version": "1.5.0",
          "state": {
            "_dom_classes": [],
            "_model_module": "@jupyter-widgets/controls",
            "_model_module_version": "1.5.0",
            "_model_name": "FloatProgressModel",
            "_view_count": null,
            "_view_module": "@jupyter-widgets/controls",
            "_view_module_version": "1.5.0",
            "_view_name": "ProgressView",
            "bar_style": "",
            "description": "",
            "description_tooltip": null,
            "layout": "IPY_MODEL_e82fbc1a0c9a45d1badb9de90ad7a39a",
            "max": 100,
            "min": 0,
            "orientation": "horizontal",
            "style": "IPY_MODEL_9833fe3fba0543b59e6e0e9cb5a93ad5",
            "value": 100
          }
        },
        "e82fbc1a0c9a45d1badb9de90ad7a39a": {
          "model_module": "@jupyter-widgets/base",
          "model_name": "LayoutModel",
          "model_module_version": "1.2.0",
          "state": {
            "_model_module": "@jupyter-widgets/base",
            "_model_module_version": "1.2.0",
            "_model_name": "LayoutModel",
            "_view_count": null,
            "_view_module": "@jupyter-widgets/base",
            "_view_module_version": "1.2.0",
            "_view_name": "LayoutView",
            "align_content": null,
            "align_items": null,
            "align_self": null,
            "border": null,
            "bottom": null,
            "display": null,
            "flex": null,
            "flex_flow": null,
            "grid_area": null,
            "grid_auto_columns": null,
            "grid_auto_flow": null,
            "grid_auto_rows": null,
            "grid_column": null,
            "grid_gap": null,
            "grid_row": null,
            "grid_template_areas": null,
            "grid_template_columns": null,
            "grid_template_rows": null,
            "height": null,
            "justify_content": null,
            "justify_items": null,
            "left": null,
            "margin": null,
            "max_height": null,
            "max_width": null,
            "min_height": null,
            "min_width": null,
            "object_fit": null,
            "object_position": null,
            "order": null,
            "overflow": null,
            "overflow_x": null,
            "overflow_y": null,
            "padding": null,
            "right": null,
            "top": null,
            "visibility": null,
            "width": "auto"
          }
        },
        "9833fe3fba0543b59e6e0e9cb5a93ad5": {
          "model_module": "@jupyter-widgets/controls",
          "model_name": "ProgressStyleModel",
          "model_module_version": "1.5.0",
          "state": {
            "_model_module": "@jupyter-widgets/controls",
            "_model_module_version": "1.5.0",
            "_model_name": "ProgressStyleModel",
            "_view_count": null,
            "_view_module": "@jupyter-widgets/base",
            "_view_module_version": "1.2.0",
            "_view_name": "StyleView",
            "bar_color": "black",
            "description_width": ""
          }
        },
        "1a6688c183d34ad8969cc6644d2c2543": {
          "model_module": "@jupyter-widgets/controls",
          "model_name": "FloatProgressModel",
          "model_module_version": "1.5.0",
          "state": {
            "_dom_classes": [],
            "_model_module": "@jupyter-widgets/controls",
            "_model_module_version": "1.5.0",
            "_model_name": "FloatProgressModel",
            "_view_count": null,
            "_view_module": "@jupyter-widgets/controls",
            "_view_module_version": "1.5.0",
            "_view_name": "ProgressView",
            "bar_style": "",
            "description": "",
            "description_tooltip": null,
            "layout": "IPY_MODEL_fc5e8ef3edd448329c9b1fd81baee7c6",
            "max": 100,
            "min": 0,
            "orientation": "horizontal",
            "style": "IPY_MODEL_bdd04014de1444219cf54b90d0347904",
            "value": 100
          }
        },
        "fc5e8ef3edd448329c9b1fd81baee7c6": {
          "model_module": "@jupyter-widgets/base",
          "model_name": "LayoutModel",
          "model_module_version": "1.2.0",
          "state": {
            "_model_module": "@jupyter-widgets/base",
            "_model_module_version": "1.2.0",
            "_model_name": "LayoutModel",
            "_view_count": null,
            "_view_module": "@jupyter-widgets/base",
            "_view_module_version": "1.2.0",
            "_view_name": "LayoutView",
            "align_content": null,
            "align_items": null,
            "align_self": null,
            "border": null,
            "bottom": null,
            "display": null,
            "flex": null,
            "flex_flow": null,
            "grid_area": null,
            "grid_auto_columns": null,
            "grid_auto_flow": null,
            "grid_auto_rows": null,
            "grid_column": null,
            "grid_gap": null,
            "grid_row": null,
            "grid_template_areas": null,
            "grid_template_columns": null,
            "grid_template_rows": null,
            "height": null,
            "justify_content": null,
            "justify_items": null,
            "left": null,
            "margin": null,
            "max_height": null,
            "max_width": null,
            "min_height": null,
            "min_width": null,
            "object_fit": null,
            "object_position": null,
            "order": null,
            "overflow": null,
            "overflow_x": null,
            "overflow_y": null,
            "padding": null,
            "right": null,
            "top": null,
            "visibility": null,
            "width": "auto"
          }
        },
        "bdd04014de1444219cf54b90d0347904": {
          "model_module": "@jupyter-widgets/controls",
          "model_name": "ProgressStyleModel",
          "model_module_version": "1.5.0",
          "state": {
            "_model_module": "@jupyter-widgets/controls",
            "_model_module_version": "1.5.0",
            "_model_name": "ProgressStyleModel",
            "_view_count": null,
            "_view_module": "@jupyter-widgets/base",
            "_view_module_version": "1.2.0",
            "_view_name": "StyleView",
            "bar_color": "black",
            "description_width": ""
          }
        },
        "204fe0a5044f45bb81c37f88acf9b095": {
          "model_module": "@jupyter-widgets/controls",
          "model_name": "FloatProgressModel",
          "model_module_version": "1.5.0",
          "state": {
            "_dom_classes": [],
            "_model_module": "@jupyter-widgets/controls",
            "_model_module_version": "1.5.0",
            "_model_name": "FloatProgressModel",
            "_view_count": null,
            "_view_module": "@jupyter-widgets/controls",
            "_view_module_version": "1.5.0",
            "_view_name": "ProgressView",
            "bar_style": "",
            "description": "",
            "description_tooltip": null,
            "layout": "IPY_MODEL_a7cb363d1aeb478096af113a7dd4c680",
            "max": 100,
            "min": 0,
            "orientation": "horizontal",
            "style": "IPY_MODEL_d1de0217f2a44da0856ad172e9cb91d6",
            "value": 100
          }
        },
        "a7cb363d1aeb478096af113a7dd4c680": {
          "model_module": "@jupyter-widgets/base",
          "model_name": "LayoutModel",
          "model_module_version": "1.2.0",
          "state": {
            "_model_module": "@jupyter-widgets/base",
            "_model_module_version": "1.2.0",
            "_model_name": "LayoutModel",
            "_view_count": null,
            "_view_module": "@jupyter-widgets/base",
            "_view_module_version": "1.2.0",
            "_view_name": "LayoutView",
            "align_content": null,
            "align_items": null,
            "align_self": null,
            "border": null,
            "bottom": null,
            "display": null,
            "flex": null,
            "flex_flow": null,
            "grid_area": null,
            "grid_auto_columns": null,
            "grid_auto_flow": null,
            "grid_auto_rows": null,
            "grid_column": null,
            "grid_gap": null,
            "grid_row": null,
            "grid_template_areas": null,
            "grid_template_columns": null,
            "grid_template_rows": null,
            "height": null,
            "justify_content": null,
            "justify_items": null,
            "left": null,
            "margin": null,
            "max_height": null,
            "max_width": null,
            "min_height": null,
            "min_width": null,
            "object_fit": null,
            "object_position": null,
            "order": null,
            "overflow": null,
            "overflow_x": null,
            "overflow_y": null,
            "padding": null,
            "right": null,
            "top": null,
            "visibility": null,
            "width": "auto"
          }
        },
        "d1de0217f2a44da0856ad172e9cb91d6": {
          "model_module": "@jupyter-widgets/controls",
          "model_name": "ProgressStyleModel",
          "model_module_version": "1.5.0",
          "state": {
            "_model_module": "@jupyter-widgets/controls",
            "_model_module_version": "1.5.0",
            "_model_name": "ProgressStyleModel",
            "_view_count": null,
            "_view_module": "@jupyter-widgets/base",
            "_view_module_version": "1.2.0",
            "_view_name": "StyleView",
            "bar_color": "black",
            "description_width": ""
          }
        },
        "a3ef4113ecab494e91ad45507b75bf69": {
          "model_module": "@jupyter-widgets/controls",
          "model_name": "FloatProgressModel",
          "model_module_version": "1.5.0",
          "state": {
            "_dom_classes": [],
            "_model_module": "@jupyter-widgets/controls",
            "_model_module_version": "1.5.0",
            "_model_name": "FloatProgressModel",
            "_view_count": null,
            "_view_module": "@jupyter-widgets/controls",
            "_view_module_version": "1.5.0",
            "_view_name": "ProgressView",
            "bar_style": "",
            "description": "",
            "description_tooltip": null,
            "layout": "IPY_MODEL_e06ee14afe734c489810d8d4c7532a3c",
            "max": 100,
            "min": 0,
            "orientation": "horizontal",
            "style": "IPY_MODEL_13c67049a5384b79a57aa0e4082d1b23",
            "value": 100
          }
        },
        "e06ee14afe734c489810d8d4c7532a3c": {
          "model_module": "@jupyter-widgets/base",
          "model_name": "LayoutModel",
          "model_module_version": "1.2.0",
          "state": {
            "_model_module": "@jupyter-widgets/base",
            "_model_module_version": "1.2.0",
            "_model_name": "LayoutModel",
            "_view_count": null,
            "_view_module": "@jupyter-widgets/base",
            "_view_module_version": "1.2.0",
            "_view_name": "LayoutView",
            "align_content": null,
            "align_items": null,
            "align_self": null,
            "border": null,
            "bottom": null,
            "display": null,
            "flex": null,
            "flex_flow": null,
            "grid_area": null,
            "grid_auto_columns": null,
            "grid_auto_flow": null,
            "grid_auto_rows": null,
            "grid_column": null,
            "grid_gap": null,
            "grid_row": null,
            "grid_template_areas": null,
            "grid_template_columns": null,
            "grid_template_rows": null,
            "height": null,
            "justify_content": null,
            "justify_items": null,
            "left": null,
            "margin": null,
            "max_height": null,
            "max_width": null,
            "min_height": null,
            "min_width": null,
            "object_fit": null,
            "object_position": null,
            "order": null,
            "overflow": null,
            "overflow_x": null,
            "overflow_y": null,
            "padding": null,
            "right": null,
            "top": null,
            "visibility": null,
            "width": "auto"
          }
        },
        "13c67049a5384b79a57aa0e4082d1b23": {
          "model_module": "@jupyter-widgets/controls",
          "model_name": "ProgressStyleModel",
          "model_module_version": "1.5.0",
          "state": {
            "_model_module": "@jupyter-widgets/controls",
            "_model_module_version": "1.5.0",
            "_model_name": "ProgressStyleModel",
            "_view_count": null,
            "_view_module": "@jupyter-widgets/base",
            "_view_module_version": "1.2.0",
            "_view_name": "StyleView",
            "bar_color": "black",
            "description_width": ""
          }
        },
        "c4fb04b63530478c997ef03c844ea1f4": {
          "model_module": "@jupyter-widgets/controls",
          "model_name": "FloatProgressModel",
          "model_module_version": "1.5.0",
          "state": {
            "_dom_classes": [],
            "_model_module": "@jupyter-widgets/controls",
            "_model_module_version": "1.5.0",
            "_model_name": "FloatProgressModel",
            "_view_count": null,
            "_view_module": "@jupyter-widgets/controls",
            "_view_module_version": "1.5.0",
            "_view_name": "ProgressView",
            "bar_style": "",
            "description": "",
            "description_tooltip": null,
            "layout": "IPY_MODEL_b28ddbdaf9124b2aad5f7de0c4ee97f7",
            "max": 100,
            "min": 0,
            "orientation": "horizontal",
            "style": "IPY_MODEL_057dce18f0704e3ea8428c4555937790",
            "value": 100
          }
        },
        "b28ddbdaf9124b2aad5f7de0c4ee97f7": {
          "model_module": "@jupyter-widgets/base",
          "model_name": "LayoutModel",
          "model_module_version": "1.2.0",
          "state": {
            "_model_module": "@jupyter-widgets/base",
            "_model_module_version": "1.2.0",
            "_model_name": "LayoutModel",
            "_view_count": null,
            "_view_module": "@jupyter-widgets/base",
            "_view_module_version": "1.2.0",
            "_view_name": "LayoutView",
            "align_content": null,
            "align_items": null,
            "align_self": null,
            "border": null,
            "bottom": null,
            "display": null,
            "flex": null,
            "flex_flow": null,
            "grid_area": null,
            "grid_auto_columns": null,
            "grid_auto_flow": null,
            "grid_auto_rows": null,
            "grid_column": null,
            "grid_gap": null,
            "grid_row": null,
            "grid_template_areas": null,
            "grid_template_columns": null,
            "grid_template_rows": null,
            "height": null,
            "justify_content": null,
            "justify_items": null,
            "left": null,
            "margin": null,
            "max_height": null,
            "max_width": null,
            "min_height": null,
            "min_width": null,
            "object_fit": null,
            "object_position": null,
            "order": null,
            "overflow": null,
            "overflow_x": null,
            "overflow_y": null,
            "padding": null,
            "right": null,
            "top": null,
            "visibility": null,
            "width": "auto"
          }
        },
        "057dce18f0704e3ea8428c4555937790": {
          "model_module": "@jupyter-widgets/controls",
          "model_name": "ProgressStyleModel",
          "model_module_version": "1.5.0",
          "state": {
            "_model_module": "@jupyter-widgets/controls",
            "_model_module_version": "1.5.0",
            "_model_name": "ProgressStyleModel",
            "_view_count": null,
            "_view_module": "@jupyter-widgets/base",
            "_view_module_version": "1.2.0",
            "_view_name": "StyleView",
            "bar_color": "black",
            "description_width": ""
          }
        },
        "fd2ec6ab6e37493fb8dc1ea5048efdfa": {
          "model_module": "@jupyter-widgets/controls",
          "model_name": "FloatProgressModel",
          "model_module_version": "1.5.0",
          "state": {
            "_dom_classes": [],
            "_model_module": "@jupyter-widgets/controls",
            "_model_module_version": "1.5.0",
            "_model_name": "FloatProgressModel",
            "_view_count": null,
            "_view_module": "@jupyter-widgets/controls",
            "_view_module_version": "1.5.0",
            "_view_name": "ProgressView",
            "bar_style": "",
            "description": "",
            "description_tooltip": null,
            "layout": "IPY_MODEL_2c74b17a0f2241ac972c04ba4861d2b5",
            "max": 100,
            "min": 0,
            "orientation": "horizontal",
            "style": "IPY_MODEL_e9729db4e9a142bd953ae9e420777891",
            "value": 100
          }
        },
        "2c74b17a0f2241ac972c04ba4861d2b5": {
          "model_module": "@jupyter-widgets/base",
          "model_name": "LayoutModel",
          "model_module_version": "1.2.0",
          "state": {
            "_model_module": "@jupyter-widgets/base",
            "_model_module_version": "1.2.0",
            "_model_name": "LayoutModel",
            "_view_count": null,
            "_view_module": "@jupyter-widgets/base",
            "_view_module_version": "1.2.0",
            "_view_name": "LayoutView",
            "align_content": null,
            "align_items": null,
            "align_self": null,
            "border": null,
            "bottom": null,
            "display": null,
            "flex": null,
            "flex_flow": null,
            "grid_area": null,
            "grid_auto_columns": null,
            "grid_auto_flow": null,
            "grid_auto_rows": null,
            "grid_column": null,
            "grid_gap": null,
            "grid_row": null,
            "grid_template_areas": null,
            "grid_template_columns": null,
            "grid_template_rows": null,
            "height": null,
            "justify_content": null,
            "justify_items": null,
            "left": null,
            "margin": null,
            "max_height": null,
            "max_width": null,
            "min_height": null,
            "min_width": null,
            "object_fit": null,
            "object_position": null,
            "order": null,
            "overflow": null,
            "overflow_x": null,
            "overflow_y": null,
            "padding": null,
            "right": null,
            "top": null,
            "visibility": null,
            "width": "auto"
          }
        },
        "e9729db4e9a142bd953ae9e420777891": {
          "model_module": "@jupyter-widgets/controls",
          "model_name": "ProgressStyleModel",
          "model_module_version": "1.5.0",
          "state": {
            "_model_module": "@jupyter-widgets/controls",
            "_model_module_version": "1.5.0",
            "_model_name": "ProgressStyleModel",
            "_view_count": null,
            "_view_module": "@jupyter-widgets/base",
            "_view_module_version": "1.2.0",
            "_view_name": "StyleView",
            "bar_color": "black",
            "description_width": ""
          }
        },
        "3dd407cf10324ff29a7c97a266d651c7": {
          "model_module": "@jupyter-widgets/controls",
          "model_name": "FloatProgressModel",
          "model_module_version": "1.5.0",
          "state": {
            "_dom_classes": [],
            "_model_module": "@jupyter-widgets/controls",
            "_model_module_version": "1.5.0",
            "_model_name": "FloatProgressModel",
            "_view_count": null,
            "_view_module": "@jupyter-widgets/controls",
            "_view_module_version": "1.5.0",
            "_view_name": "ProgressView",
            "bar_style": "",
            "description": "",
            "description_tooltip": null,
            "layout": "IPY_MODEL_eeca97a25f3342edb4af2438a7a340ec",
            "max": 100,
            "min": 0,
            "orientation": "horizontal",
            "style": "IPY_MODEL_e8cc10c8b8674f939d72d10fa8852d28",
            "value": 100
          }
        },
        "eeca97a25f3342edb4af2438a7a340ec": {
          "model_module": "@jupyter-widgets/base",
          "model_name": "LayoutModel",
          "model_module_version": "1.2.0",
          "state": {
            "_model_module": "@jupyter-widgets/base",
            "_model_module_version": "1.2.0",
            "_model_name": "LayoutModel",
            "_view_count": null,
            "_view_module": "@jupyter-widgets/base",
            "_view_module_version": "1.2.0",
            "_view_name": "LayoutView",
            "align_content": null,
            "align_items": null,
            "align_self": null,
            "border": null,
            "bottom": null,
            "display": null,
            "flex": null,
            "flex_flow": null,
            "grid_area": null,
            "grid_auto_columns": null,
            "grid_auto_flow": null,
            "grid_auto_rows": null,
            "grid_column": null,
            "grid_gap": null,
            "grid_row": null,
            "grid_template_areas": null,
            "grid_template_columns": null,
            "grid_template_rows": null,
            "height": null,
            "justify_content": null,
            "justify_items": null,
            "left": null,
            "margin": null,
            "max_height": null,
            "max_width": null,
            "min_height": null,
            "min_width": null,
            "object_fit": null,
            "object_position": null,
            "order": null,
            "overflow": null,
            "overflow_x": null,
            "overflow_y": null,
            "padding": null,
            "right": null,
            "top": null,
            "visibility": null,
            "width": "auto"
          }
        },
        "e8cc10c8b8674f939d72d10fa8852d28": {
          "model_module": "@jupyter-widgets/controls",
          "model_name": "ProgressStyleModel",
          "model_module_version": "1.5.0",
          "state": {
            "_model_module": "@jupyter-widgets/controls",
            "_model_module_version": "1.5.0",
            "_model_name": "ProgressStyleModel",
            "_view_count": null,
            "_view_module": "@jupyter-widgets/base",
            "_view_module_version": "1.2.0",
            "_view_name": "StyleView",
            "bar_color": "black",
            "description_width": ""
          }
        },
        "854bc4b149c5476f9d6ef881768bdeea": {
          "model_module": "@jupyter-widgets/controls",
          "model_name": "FloatProgressModel",
          "model_module_version": "1.5.0",
          "state": {
            "_dom_classes": [],
            "_model_module": "@jupyter-widgets/controls",
            "_model_module_version": "1.5.0",
            "_model_name": "FloatProgressModel",
            "_view_count": null,
            "_view_module": "@jupyter-widgets/controls",
            "_view_module_version": "1.5.0",
            "_view_name": "ProgressView",
            "bar_style": "",
            "description": "",
            "description_tooltip": null,
            "layout": "IPY_MODEL_e009274db6f24ba9b83475956284d843",
            "max": 100,
            "min": 0,
            "orientation": "horizontal",
            "style": "IPY_MODEL_b94ac74e89414c0393a64a0cd6f77312",
            "value": 100
          }
        },
        "e009274db6f24ba9b83475956284d843": {
          "model_module": "@jupyter-widgets/base",
          "model_name": "LayoutModel",
          "model_module_version": "1.2.0",
          "state": {
            "_model_module": "@jupyter-widgets/base",
            "_model_module_version": "1.2.0",
            "_model_name": "LayoutModel",
            "_view_count": null,
            "_view_module": "@jupyter-widgets/base",
            "_view_module_version": "1.2.0",
            "_view_name": "LayoutView",
            "align_content": null,
            "align_items": null,
            "align_self": null,
            "border": null,
            "bottom": null,
            "display": null,
            "flex": null,
            "flex_flow": null,
            "grid_area": null,
            "grid_auto_columns": null,
            "grid_auto_flow": null,
            "grid_auto_rows": null,
            "grid_column": null,
            "grid_gap": null,
            "grid_row": null,
            "grid_template_areas": null,
            "grid_template_columns": null,
            "grid_template_rows": null,
            "height": null,
            "justify_content": null,
            "justify_items": null,
            "left": null,
            "margin": null,
            "max_height": null,
            "max_width": null,
            "min_height": null,
            "min_width": null,
            "object_fit": null,
            "object_position": null,
            "order": null,
            "overflow": null,
            "overflow_x": null,
            "overflow_y": null,
            "padding": null,
            "right": null,
            "top": null,
            "visibility": null,
            "width": "auto"
          }
        },
        "b94ac74e89414c0393a64a0cd6f77312": {
          "model_module": "@jupyter-widgets/controls",
          "model_name": "ProgressStyleModel",
          "model_module_version": "1.5.0",
          "state": {
            "_model_module": "@jupyter-widgets/controls",
            "_model_module_version": "1.5.0",
            "_model_name": "ProgressStyleModel",
            "_view_count": null,
            "_view_module": "@jupyter-widgets/base",
            "_view_module_version": "1.2.0",
            "_view_name": "StyleView",
            "bar_color": "black",
            "description_width": ""
          }
        },
        "70bb79d9bb294c3290c5cb24f3835ea3": {
          "model_module": "@jupyter-widgets/controls",
          "model_name": "FloatProgressModel",
          "model_module_version": "1.5.0",
          "state": {
            "_dom_classes": [],
            "_model_module": "@jupyter-widgets/controls",
            "_model_module_version": "1.5.0",
            "_model_name": "FloatProgressModel",
            "_view_count": null,
            "_view_module": "@jupyter-widgets/controls",
            "_view_module_version": "1.5.0",
            "_view_name": "ProgressView",
            "bar_style": "",
            "description": "",
            "description_tooltip": null,
            "layout": "IPY_MODEL_496d08976e65475487d7275d1ab6aa69",
            "max": 100,
            "min": 0,
            "orientation": "horizontal",
            "style": "IPY_MODEL_2d8fed7d91ba4d9da941af5297ff0790",
            "value": 100
          }
        },
        "496d08976e65475487d7275d1ab6aa69": {
          "model_module": "@jupyter-widgets/base",
          "model_name": "LayoutModel",
          "model_module_version": "1.2.0",
          "state": {
            "_model_module": "@jupyter-widgets/base",
            "_model_module_version": "1.2.0",
            "_model_name": "LayoutModel",
            "_view_count": null,
            "_view_module": "@jupyter-widgets/base",
            "_view_module_version": "1.2.0",
            "_view_name": "LayoutView",
            "align_content": null,
            "align_items": null,
            "align_self": null,
            "border": null,
            "bottom": null,
            "display": null,
            "flex": null,
            "flex_flow": null,
            "grid_area": null,
            "grid_auto_columns": null,
            "grid_auto_flow": null,
            "grid_auto_rows": null,
            "grid_column": null,
            "grid_gap": null,
            "grid_row": null,
            "grid_template_areas": null,
            "grid_template_columns": null,
            "grid_template_rows": null,
            "height": null,
            "justify_content": null,
            "justify_items": null,
            "left": null,
            "margin": null,
            "max_height": null,
            "max_width": null,
            "min_height": null,
            "min_width": null,
            "object_fit": null,
            "object_position": null,
            "order": null,
            "overflow": null,
            "overflow_x": null,
            "overflow_y": null,
            "padding": null,
            "right": null,
            "top": null,
            "visibility": null,
            "width": "auto"
          }
        },
        "2d8fed7d91ba4d9da941af5297ff0790": {
          "model_module": "@jupyter-widgets/controls",
          "model_name": "ProgressStyleModel",
          "model_module_version": "1.5.0",
          "state": {
            "_model_module": "@jupyter-widgets/controls",
            "_model_module_version": "1.5.0",
            "_model_name": "ProgressStyleModel",
            "_view_count": null,
            "_view_module": "@jupyter-widgets/base",
            "_view_module_version": "1.2.0",
            "_view_name": "StyleView",
            "bar_color": "black",
            "description_width": ""
          }
        },
        "c4e12f4c4d9c4f48a1fd3dba446abf09": {
          "model_module": "@jupyter-widgets/controls",
          "model_name": "FloatProgressModel",
          "model_module_version": "1.5.0",
          "state": {
            "_dom_classes": [],
            "_model_module": "@jupyter-widgets/controls",
            "_model_module_version": "1.5.0",
            "_model_name": "FloatProgressModel",
            "_view_count": null,
            "_view_module": "@jupyter-widgets/controls",
            "_view_module_version": "1.5.0",
            "_view_name": "ProgressView",
            "bar_style": "",
            "description": "",
            "description_tooltip": null,
            "layout": "IPY_MODEL_6c5821bec8d64719859e580c2e917e3b",
            "max": 100,
            "min": 0,
            "orientation": "horizontal",
            "style": "IPY_MODEL_2bd4dd9a62ac4578be558b5e1afa1408",
            "value": 100
          }
        },
        "6c5821bec8d64719859e580c2e917e3b": {
          "model_module": "@jupyter-widgets/base",
          "model_name": "LayoutModel",
          "model_module_version": "1.2.0",
          "state": {
            "_model_module": "@jupyter-widgets/base",
            "_model_module_version": "1.2.0",
            "_model_name": "LayoutModel",
            "_view_count": null,
            "_view_module": "@jupyter-widgets/base",
            "_view_module_version": "1.2.0",
            "_view_name": "LayoutView",
            "align_content": null,
            "align_items": null,
            "align_self": null,
            "border": null,
            "bottom": null,
            "display": null,
            "flex": null,
            "flex_flow": null,
            "grid_area": null,
            "grid_auto_columns": null,
            "grid_auto_flow": null,
            "grid_auto_rows": null,
            "grid_column": null,
            "grid_gap": null,
            "grid_row": null,
            "grid_template_areas": null,
            "grid_template_columns": null,
            "grid_template_rows": null,
            "height": null,
            "justify_content": null,
            "justify_items": null,
            "left": null,
            "margin": null,
            "max_height": null,
            "max_width": null,
            "min_height": null,
            "min_width": null,
            "object_fit": null,
            "object_position": null,
            "order": null,
            "overflow": null,
            "overflow_x": null,
            "overflow_y": null,
            "padding": null,
            "right": null,
            "top": null,
            "visibility": null,
            "width": "auto"
          }
        },
        "2bd4dd9a62ac4578be558b5e1afa1408": {
          "model_module": "@jupyter-widgets/controls",
          "model_name": "ProgressStyleModel",
          "model_module_version": "1.5.0",
          "state": {
            "_model_module": "@jupyter-widgets/controls",
            "_model_module_version": "1.5.0",
            "_model_name": "ProgressStyleModel",
            "_view_count": null,
            "_view_module": "@jupyter-widgets/base",
            "_view_module_version": "1.2.0",
            "_view_name": "StyleView",
            "bar_color": "black",
            "description_width": ""
          }
        },
        "52674cc155e54457ad2c2e09c173cc9c": {
          "model_module": "@jupyter-widgets/controls",
          "model_name": "FloatProgressModel",
          "model_module_version": "1.5.0",
          "state": {
            "_dom_classes": [],
            "_model_module": "@jupyter-widgets/controls",
            "_model_module_version": "1.5.0",
            "_model_name": "FloatProgressModel",
            "_view_count": null,
            "_view_module": "@jupyter-widgets/controls",
            "_view_module_version": "1.5.0",
            "_view_name": "ProgressView",
            "bar_style": "",
            "description": "",
            "description_tooltip": null,
            "layout": "IPY_MODEL_52a301e1f5ca40a2994a28deb0340d8e",
            "max": 100,
            "min": 0,
            "orientation": "horizontal",
            "style": "IPY_MODEL_18bad3fde6ec4812ab5fdd583bbbead8",
            "value": 100
          }
        },
        "52a301e1f5ca40a2994a28deb0340d8e": {
          "model_module": "@jupyter-widgets/base",
          "model_name": "LayoutModel",
          "model_module_version": "1.2.0",
          "state": {
            "_model_module": "@jupyter-widgets/base",
            "_model_module_version": "1.2.0",
            "_model_name": "LayoutModel",
            "_view_count": null,
            "_view_module": "@jupyter-widgets/base",
            "_view_module_version": "1.2.0",
            "_view_name": "LayoutView",
            "align_content": null,
            "align_items": null,
            "align_self": null,
            "border": null,
            "bottom": null,
            "display": null,
            "flex": null,
            "flex_flow": null,
            "grid_area": null,
            "grid_auto_columns": null,
            "grid_auto_flow": null,
            "grid_auto_rows": null,
            "grid_column": null,
            "grid_gap": null,
            "grid_row": null,
            "grid_template_areas": null,
            "grid_template_columns": null,
            "grid_template_rows": null,
            "height": null,
            "justify_content": null,
            "justify_items": null,
            "left": null,
            "margin": null,
            "max_height": null,
            "max_width": null,
            "min_height": null,
            "min_width": null,
            "object_fit": null,
            "object_position": null,
            "order": null,
            "overflow": null,
            "overflow_x": null,
            "overflow_y": null,
            "padding": null,
            "right": null,
            "top": null,
            "visibility": null,
            "width": "auto"
          }
        },
        "18bad3fde6ec4812ab5fdd583bbbead8": {
          "model_module": "@jupyter-widgets/controls",
          "model_name": "ProgressStyleModel",
          "model_module_version": "1.5.0",
          "state": {
            "_model_module": "@jupyter-widgets/controls",
            "_model_module_version": "1.5.0",
            "_model_name": "ProgressStyleModel",
            "_view_count": null,
            "_view_module": "@jupyter-widgets/base",
            "_view_module_version": "1.2.0",
            "_view_name": "StyleView",
            "bar_color": "black",
            "description_width": ""
          }
        },
        "cdf67922025048efbf6fd630d2ddba42": {
          "model_module": "@jupyter-widgets/controls",
          "model_name": "FloatProgressModel",
          "model_module_version": "1.5.0",
          "state": {
            "_dom_classes": [],
            "_model_module": "@jupyter-widgets/controls",
            "_model_module_version": "1.5.0",
            "_model_name": "FloatProgressModel",
            "_view_count": null,
            "_view_module": "@jupyter-widgets/controls",
            "_view_module_version": "1.5.0",
            "_view_name": "ProgressView",
            "bar_style": "",
            "description": "",
            "description_tooltip": null,
            "layout": "IPY_MODEL_bf4a996c70e04f2f9362bbd95f0770f9",
            "max": 100,
            "min": 0,
            "orientation": "horizontal",
            "style": "IPY_MODEL_27250de3e6ac4af8947c6a28108a5985",
            "value": 100
          }
        },
        "bf4a996c70e04f2f9362bbd95f0770f9": {
          "model_module": "@jupyter-widgets/base",
          "model_name": "LayoutModel",
          "model_module_version": "1.2.0",
          "state": {
            "_model_module": "@jupyter-widgets/base",
            "_model_module_version": "1.2.0",
            "_model_name": "LayoutModel",
            "_view_count": null,
            "_view_module": "@jupyter-widgets/base",
            "_view_module_version": "1.2.0",
            "_view_name": "LayoutView",
            "align_content": null,
            "align_items": null,
            "align_self": null,
            "border": null,
            "bottom": null,
            "display": null,
            "flex": null,
            "flex_flow": null,
            "grid_area": null,
            "grid_auto_columns": null,
            "grid_auto_flow": null,
            "grid_auto_rows": null,
            "grid_column": null,
            "grid_gap": null,
            "grid_row": null,
            "grid_template_areas": null,
            "grid_template_columns": null,
            "grid_template_rows": null,
            "height": null,
            "justify_content": null,
            "justify_items": null,
            "left": null,
            "margin": null,
            "max_height": null,
            "max_width": null,
            "min_height": null,
            "min_width": null,
            "object_fit": null,
            "object_position": null,
            "order": null,
            "overflow": null,
            "overflow_x": null,
            "overflow_y": null,
            "padding": null,
            "right": null,
            "top": null,
            "visibility": null,
            "width": "auto"
          }
        },
        "27250de3e6ac4af8947c6a28108a5985": {
          "model_module": "@jupyter-widgets/controls",
          "model_name": "ProgressStyleModel",
          "model_module_version": "1.5.0",
          "state": {
            "_model_module": "@jupyter-widgets/controls",
            "_model_module_version": "1.5.0",
            "_model_name": "ProgressStyleModel",
            "_view_count": null,
            "_view_module": "@jupyter-widgets/base",
            "_view_module_version": "1.2.0",
            "_view_name": "StyleView",
            "bar_color": "black",
            "description_width": ""
          }
        },
        "fe6cdda4603948f4a8bdf653854c290f": {
          "model_module": "@jupyter-widgets/controls",
          "model_name": "FloatProgressModel",
          "model_module_version": "1.5.0",
          "state": {
            "_dom_classes": [],
            "_model_module": "@jupyter-widgets/controls",
            "_model_module_version": "1.5.0",
            "_model_name": "FloatProgressModel",
            "_view_count": null,
            "_view_module": "@jupyter-widgets/controls",
            "_view_module_version": "1.5.0",
            "_view_name": "ProgressView",
            "bar_style": "",
            "description": "",
            "description_tooltip": null,
            "layout": "IPY_MODEL_e7a205fb4ea848d9ba047fb52793887a",
            "max": 100,
            "min": 0,
            "orientation": "horizontal",
            "style": "IPY_MODEL_3bf3d52b21d740a4a65720fd9892d42a",
            "value": 100
          }
        },
        "e7a205fb4ea848d9ba047fb52793887a": {
          "model_module": "@jupyter-widgets/base",
          "model_name": "LayoutModel",
          "model_module_version": "1.2.0",
          "state": {
            "_model_module": "@jupyter-widgets/base",
            "_model_module_version": "1.2.0",
            "_model_name": "LayoutModel",
            "_view_count": null,
            "_view_module": "@jupyter-widgets/base",
            "_view_module_version": "1.2.0",
            "_view_name": "LayoutView",
            "align_content": null,
            "align_items": null,
            "align_self": null,
            "border": null,
            "bottom": null,
            "display": null,
            "flex": null,
            "flex_flow": null,
            "grid_area": null,
            "grid_auto_columns": null,
            "grid_auto_flow": null,
            "grid_auto_rows": null,
            "grid_column": null,
            "grid_gap": null,
            "grid_row": null,
            "grid_template_areas": null,
            "grid_template_columns": null,
            "grid_template_rows": null,
            "height": null,
            "justify_content": null,
            "justify_items": null,
            "left": null,
            "margin": null,
            "max_height": null,
            "max_width": null,
            "min_height": null,
            "min_width": null,
            "object_fit": null,
            "object_position": null,
            "order": null,
            "overflow": null,
            "overflow_x": null,
            "overflow_y": null,
            "padding": null,
            "right": null,
            "top": null,
            "visibility": null,
            "width": "auto"
          }
        },
        "3bf3d52b21d740a4a65720fd9892d42a": {
          "model_module": "@jupyter-widgets/controls",
          "model_name": "ProgressStyleModel",
          "model_module_version": "1.5.0",
          "state": {
            "_model_module": "@jupyter-widgets/controls",
            "_model_module_version": "1.5.0",
            "_model_name": "ProgressStyleModel",
            "_view_count": null,
            "_view_module": "@jupyter-widgets/base",
            "_view_module_version": "1.2.0",
            "_view_name": "StyleView",
            "bar_color": "black",
            "description_width": ""
          }
        },
        "7558961c412b46ceb0d00b79d74cb7f5": {
          "model_module": "@jupyter-widgets/controls",
          "model_name": "FloatProgressModel",
          "model_module_version": "1.5.0",
          "state": {
            "_dom_classes": [],
            "_model_module": "@jupyter-widgets/controls",
            "_model_module_version": "1.5.0",
            "_model_name": "FloatProgressModel",
            "_view_count": null,
            "_view_module": "@jupyter-widgets/controls",
            "_view_module_version": "1.5.0",
            "_view_name": "ProgressView",
            "bar_style": "",
            "description": "",
            "description_tooltip": null,
            "layout": "IPY_MODEL_dcf728f316554710982c9330ad85a6f6",
            "max": 100,
            "min": 0,
            "orientation": "horizontal",
            "style": "IPY_MODEL_b387fdf0f9544bdd9f9866efef0a517a",
            "value": 100
          }
        },
        "dcf728f316554710982c9330ad85a6f6": {
          "model_module": "@jupyter-widgets/base",
          "model_name": "LayoutModel",
          "model_module_version": "1.2.0",
          "state": {
            "_model_module": "@jupyter-widgets/base",
            "_model_module_version": "1.2.0",
            "_model_name": "LayoutModel",
            "_view_count": null,
            "_view_module": "@jupyter-widgets/base",
            "_view_module_version": "1.2.0",
            "_view_name": "LayoutView",
            "align_content": null,
            "align_items": null,
            "align_self": null,
            "border": null,
            "bottom": null,
            "display": null,
            "flex": null,
            "flex_flow": null,
            "grid_area": null,
            "grid_auto_columns": null,
            "grid_auto_flow": null,
            "grid_auto_rows": null,
            "grid_column": null,
            "grid_gap": null,
            "grid_row": null,
            "grid_template_areas": null,
            "grid_template_columns": null,
            "grid_template_rows": null,
            "height": null,
            "justify_content": null,
            "justify_items": null,
            "left": null,
            "margin": null,
            "max_height": null,
            "max_width": null,
            "min_height": null,
            "min_width": null,
            "object_fit": null,
            "object_position": null,
            "order": null,
            "overflow": null,
            "overflow_x": null,
            "overflow_y": null,
            "padding": null,
            "right": null,
            "top": null,
            "visibility": null,
            "width": "auto"
          }
        },
        "b387fdf0f9544bdd9f9866efef0a517a": {
          "model_module": "@jupyter-widgets/controls",
          "model_name": "ProgressStyleModel",
          "model_module_version": "1.5.0",
          "state": {
            "_model_module": "@jupyter-widgets/controls",
            "_model_module_version": "1.5.0",
            "_model_name": "ProgressStyleModel",
            "_view_count": null,
            "_view_module": "@jupyter-widgets/base",
            "_view_module_version": "1.2.0",
            "_view_name": "StyleView",
            "bar_color": "black",
            "description_width": ""
          }
        },
        "8d6a1bf129874c21bb881885708eeb11": {
          "model_module": "@jupyter-widgets/controls",
          "model_name": "FloatProgressModel",
          "model_module_version": "1.5.0",
          "state": {
            "_dom_classes": [],
            "_model_module": "@jupyter-widgets/controls",
            "_model_module_version": "1.5.0",
            "_model_name": "FloatProgressModel",
            "_view_count": null,
            "_view_module": "@jupyter-widgets/controls",
            "_view_module_version": "1.5.0",
            "_view_name": "ProgressView",
            "bar_style": "",
            "description": "",
            "description_tooltip": null,
            "layout": "IPY_MODEL_9c846922a02a4ec89e656f72c2e84e3c",
            "max": 100,
            "min": 0,
            "orientation": "horizontal",
            "style": "IPY_MODEL_7f61867b6dd4493eabc4e89591f63aef",
            "value": 100
          }
        },
        "9c846922a02a4ec89e656f72c2e84e3c": {
          "model_module": "@jupyter-widgets/base",
          "model_name": "LayoutModel",
          "model_module_version": "1.2.0",
          "state": {
            "_model_module": "@jupyter-widgets/base",
            "_model_module_version": "1.2.0",
            "_model_name": "LayoutModel",
            "_view_count": null,
            "_view_module": "@jupyter-widgets/base",
            "_view_module_version": "1.2.0",
            "_view_name": "LayoutView",
            "align_content": null,
            "align_items": null,
            "align_self": null,
            "border": null,
            "bottom": null,
            "display": null,
            "flex": null,
            "flex_flow": null,
            "grid_area": null,
            "grid_auto_columns": null,
            "grid_auto_flow": null,
            "grid_auto_rows": null,
            "grid_column": null,
            "grid_gap": null,
            "grid_row": null,
            "grid_template_areas": null,
            "grid_template_columns": null,
            "grid_template_rows": null,
            "height": null,
            "justify_content": null,
            "justify_items": null,
            "left": null,
            "margin": null,
            "max_height": null,
            "max_width": null,
            "min_height": null,
            "min_width": null,
            "object_fit": null,
            "object_position": null,
            "order": null,
            "overflow": null,
            "overflow_x": null,
            "overflow_y": null,
            "padding": null,
            "right": null,
            "top": null,
            "visibility": null,
            "width": "auto"
          }
        },
        "7f61867b6dd4493eabc4e89591f63aef": {
          "model_module": "@jupyter-widgets/controls",
          "model_name": "ProgressStyleModel",
          "model_module_version": "1.5.0",
          "state": {
            "_model_module": "@jupyter-widgets/controls",
            "_model_module_version": "1.5.0",
            "_model_name": "ProgressStyleModel",
            "_view_count": null,
            "_view_module": "@jupyter-widgets/base",
            "_view_module_version": "1.2.0",
            "_view_name": "StyleView",
            "bar_color": "black",
            "description_width": ""
          }
        },
        "858eba5bde5c469ab26939a869ad5bd8": {
          "model_module": "@jupyter-widgets/controls",
          "model_name": "FloatProgressModel",
          "model_module_version": "1.5.0",
          "state": {
            "_dom_classes": [],
            "_model_module": "@jupyter-widgets/controls",
            "_model_module_version": "1.5.0",
            "_model_name": "FloatProgressModel",
            "_view_count": null,
            "_view_module": "@jupyter-widgets/controls",
            "_view_module_version": "1.5.0",
            "_view_name": "ProgressView",
            "bar_style": "",
            "description": "",
            "description_tooltip": null,
            "layout": "IPY_MODEL_662963ec34164f9a91c8e02860ad8164",
            "max": 100,
            "min": 0,
            "orientation": "horizontal",
            "style": "IPY_MODEL_0bdcdf1dfc394e9c8cc2ad710b5a469c",
            "value": 100
          }
        },
        "662963ec34164f9a91c8e02860ad8164": {
          "model_module": "@jupyter-widgets/base",
          "model_name": "LayoutModel",
          "model_module_version": "1.2.0",
          "state": {
            "_model_module": "@jupyter-widgets/base",
            "_model_module_version": "1.2.0",
            "_model_name": "LayoutModel",
            "_view_count": null,
            "_view_module": "@jupyter-widgets/base",
            "_view_module_version": "1.2.0",
            "_view_name": "LayoutView",
            "align_content": null,
            "align_items": null,
            "align_self": null,
            "border": null,
            "bottom": null,
            "display": null,
            "flex": null,
            "flex_flow": null,
            "grid_area": null,
            "grid_auto_columns": null,
            "grid_auto_flow": null,
            "grid_auto_rows": null,
            "grid_column": null,
            "grid_gap": null,
            "grid_row": null,
            "grid_template_areas": null,
            "grid_template_columns": null,
            "grid_template_rows": null,
            "height": null,
            "justify_content": null,
            "justify_items": null,
            "left": null,
            "margin": null,
            "max_height": null,
            "max_width": null,
            "min_height": null,
            "min_width": null,
            "object_fit": null,
            "object_position": null,
            "order": null,
            "overflow": null,
            "overflow_x": null,
            "overflow_y": null,
            "padding": null,
            "right": null,
            "top": null,
            "visibility": null,
            "width": "auto"
          }
        },
        "0bdcdf1dfc394e9c8cc2ad710b5a469c": {
          "model_module": "@jupyter-widgets/controls",
          "model_name": "ProgressStyleModel",
          "model_module_version": "1.5.0",
          "state": {
            "_model_module": "@jupyter-widgets/controls",
            "_model_module_version": "1.5.0",
            "_model_name": "ProgressStyleModel",
            "_view_count": null,
            "_view_module": "@jupyter-widgets/base",
            "_view_module_version": "1.2.0",
            "_view_name": "StyleView",
            "bar_color": "black",
            "description_width": ""
          }
        }
      }
    }
  },
  "nbformat": 4,
  "nbformat_minor": 5
}